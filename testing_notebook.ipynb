{
 "cells": [
  {
   "cell_type": "markdown",
   "id": "63ed3bcd",
   "metadata": {},
   "source": [
    "# This is a testing notebook! Please click Run above 3 times. If you encounter a problem, please let us know."
   ]
  },
  {
   "cell_type": "code",
   "execution_count": 11,
   "id": "902cf51a",
   "metadata": {},
   "outputs": [],
   "source": [
    "import pandas\n",
    "import numpy\n",
    "from sklearn.linear_model import LinearRegression"
   ]
  },
  {
   "cell_type": "code",
   "execution_count": 12,
   "id": "f0507065",
   "metadata": {},
   "outputs": [
    {
     "name": "stdout",
     "output_type": "stream",
     "text": [
      "Hello machine learners!\n",
      "If these lines print below then you're good to go.\n",
      "Just close this tab in your browser and then close the Anaconda Navigator. You will need it again on the day.\n"
     ]
    }
   ],
   "source": [
    "model = LinearRegression() # don't worry about this line, we will discuss on the day. \n",
    "print(\"Hello machine learners!\")\n",
    "print(\"If these lines print below then you're good to go.\")\n",
    "print(\"Just close this tab in your browser and then close the Anaconda Navigator. You will need it again on the day.\")"
   ]
  },
  {
   "cell_type": "code",
   "execution_count": null,
   "id": "d7e9739a",
   "metadata": {},
   "outputs": [],
   "source": []
  }
 ],
 "metadata": {
  "kernelspec": {
   "display_name": "Python 3 (ipykernel)",
   "language": "python",
   "name": "python3"
  },
  "language_info": {
   "codemirror_mode": {
    "name": "ipython",
    "version": 3
   },
   "file_extension": ".py",
   "mimetype": "text/x-python",
   "name": "python",
   "nbconvert_exporter": "python",
   "pygments_lexer": "ipython3",
   "version": "3.8.10"
  }
 },
 "nbformat": 4,
 "nbformat_minor": 5
}
