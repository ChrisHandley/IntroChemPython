{
 "cells": [
  {
   "cell_type": "markdown",
   "id": "e7dedbfa",
   "metadata": {},
   "source": [
    "# Python Tutorial\n",
    "This notebook has been desgined to give a brief introduction into coding in python. We will use examples covered in the RhCASA notebook to explain the fundamental concetps required to start editing the notebook for your own purposes and starting new projects from scratch\n",
    "\n",
    "## Variables and Data Types\n",
    "In python, a variable can be defined by choosing a name and setting it equal to something."
   ]
  },
  {
   "cell_type": "code",
   "execution_count": 1,
   "id": "ecffbe16",
   "metadata": {},
   "outputs": [],
   "source": [
    "new_variable = 5\n",
    "num = 62.3\n",
    "word = 'hello'\n",
    "bool = True"
   ]
  },
  {
   "cell_type": "markdown",
   "id": "e5cb68d6",
   "metadata": {},
   "source": [
    "new_varibale, num and word are all variables that have been defined. There are 4 common data types used in python that we will discuss (there are more complex ones that we will not worry about for now):\n",
    "\n",
    "Integers, Floats, Strings and Booleans.\n",
    "\n",
    "new_variable is an integer, num is a float, word is a string (text) and bool is a Boolean (True or False).\n",
    "\n",
    "We can use Python to do some basic maths. To view the output, we use the function print(), with the content we would like to print inside the brackets."
   ]
  },
  {
   "cell_type": "code",
   "execution_count": 2,
   "id": "6b664627",
   "metadata": {},
   "outputs": [
    {
     "name": "stdout",
     "output_type": "stream",
     "text": [
      "7\n",
      "4.0\n",
      "6\n",
      "16\n",
      "67.3\n",
      "311.5\n"
     ]
    }
   ],
   "source": [
    "print(3+4)\n",
    "print(8/2)\n",
    "print(2*3)\n",
    "print(4**2) # 4 to the power of 2\n",
    "print(new_variable + num)\n",
    "print(new_variable * num)"
   ]
  },
  {
   "cell_type": "markdown",
   "id": "3ff0819a",
   "metadata": {},
   "source": [
    "However, Python does not have the ability to do more complex maths on its own. To do this, we either must write our own functions that can perform this maths, or we can 'borrow' functions written by others. To do this we can import a library of fuctions using an import statement.\n",
    "\n",
    "Once we have math imported, we have a host of new functions available to us. To use these functions, we must state where we are getting them from and the name of the function we want to use. "
   ]
  },
  {
   "cell_type": "code",
   "execution_count": 3,
   "id": "13dc0bd7",
   "metadata": {},
   "outputs": [
    {
     "name": "stdout",
     "output_type": "stream",
     "text": [
      "4.0\n",
      "67\n",
      "24\n"
     ]
    }
   ],
   "source": [
    "import math\n",
    "new_number = math.sqrt(16) # the square root function is obtained from the math library\n",
    "print(new_number)\n",
    "print(math.floor(67.2)) # the floor function gives the largest integeter less than or equal to the number given\n",
    "print(math.factorial(4)) # 4*3*2*1"
   ]
  },
  {
   "cell_type": "markdown",
   "id": "beb8a98d",
   "metadata": {},
   "source": [
    "## Lists\n",
    "If we want to store multiples pieces of information within one variable name we can create a list. This list can contain any of the data types discussed above, or combinations of them. "
   ]
  },
  {
   "cell_type": "code",
   "execution_count": 4,
   "id": "0e19089e",
   "metadata": {},
   "outputs": [
    {
     "name": "stdout",
     "output_type": "stream",
     "text": [
      "[1, 4, 7, 'yes', 5.6]\n"
     ]
    }
   ],
   "source": [
    "new_list = [1, 4, 7, 'yes', 5.6]\n",
    "print(new_list)"
   ]
  },
  {
   "cell_type": "markdown",
   "id": "57140ad7",
   "metadata": {},
   "source": [
    "We can access any piece of data from the list by using square brackets. The first position is position 0, followed by 1, 2, 3..."
   ]
  },
  {
   "cell_type": "code",
   "execution_count": 5,
   "id": "6d537e1e",
   "metadata": {},
   "outputs": [
    {
     "name": "stdout",
     "output_type": "stream",
     "text": [
      "1\n",
      "7\n",
      "6.6\n",
      "2.0\n"
     ]
    }
   ],
   "source": [
    "print(new_list[0])\n",
    "print(new_list[2])\n",
    "print(new_list[0]+new_list[4])\n",
    "print(math.sqrt(new_list[1]))"
   ]
  },
  {
   "cell_type": "markdown",
   "id": "85247a7d",
   "metadata": {},
   "source": [
    "## Numpy\n",
    "Numpy is one library (like math) that contains functions for data processing. We can open files with is and perform actions on the data. Typically in code, numpy when used is given an alias, np when it is imported."
   ]
  },
  {
   "cell_type": "code",
   "execution_count": 6,
   "id": "ed1d6623",
   "metadata": {},
   "outputs": [],
   "source": [
    "import numpy as np"
   ]
  },
  {
   "cell_type": "markdown",
   "id": "92813650",
   "metadata": {},
   "source": [
    "We shall open the combined-no-headers.csv file"
   ]
  },
  {
   "cell_type": "code",
   "execution_count": 7,
   "id": "6bdb404b",
   "metadata": {},
   "outputs": [
    {
     "name": "stdout",
     "output_type": "stream",
     "text": [
      "[[ 0.00000000e+00  6.00000000e+00 -9.00000000e-02 ...  2.02559852e+01\n",
      "   2.79454641e+02  1.00000000e+00]\n",
      " [ 1.00000000e+00  2.33333333e+00 -9.00000000e-02 ...  2.02559852e+01\n",
      "   2.79454641e+02  1.00000000e+00]\n",
      " [ 2.00000000e+00  7.90000000e+01 -1.40000000e-01 ...  7.60741678e+01\n",
      "   2.23068184e+02  5.00000000e-01]\n",
      " ...\n",
      " [ 3.40000000e+02  2.00000000e+00  3.60000000e-01 ...  8.45799261e+01\n",
      "   3.94431707e+02  5.00000000e-01]\n",
      " [ 3.41000000e+02  1.50000000e+01  3.60000000e-01 ...  8.45799261e+01\n",
      "   2.82386669e+02  5.00000000e-01]\n",
      " [ 3.42000000e+02  3.00000000e-01  0.00000000e+00 ...  8.45799261e+01\n",
      "   2.43000629e+02  5.00000000e-01]]\n"
     ]
    }
   ],
   "source": [
    "array = np.loadtxt(fname='combined-no-headers.csv', delimiter=',')\n",
    "print(array)"
   ]
  },
  {
   "cell_type": "code",
   "execution_count": 8,
   "id": "70aadf13",
   "metadata": {},
   "outputs": [
    {
     "name": "stdout",
     "output_type": "stream",
     "text": [
      "<class 'numpy.ndarray'>\n"
     ]
    }
   ],
   "source": [
    "print(type(array))"
   ]
  },
  {
   "cell_type": "code",
   "execution_count": 9,
   "id": "d49268ca",
   "metadata": {},
   "outputs": [
    {
     "name": "stdout",
     "output_type": "stream",
     "text": [
      "float64\n"
     ]
    }
   ],
   "source": [
    "print(array.dtype)"
   ]
  },
  {
   "cell_type": "code",
   "execution_count": 10,
   "id": "7cbeeb31",
   "metadata": {},
   "outputs": [
    {
     "name": "stdout",
     "output_type": "stream",
     "text": [
      "(343, 23)\n"
     ]
    }
   ],
   "source": [
    "print(array.shape)"
   ]
  },
  {
   "cell_type": "code",
   "execution_count": 11,
   "id": "ee05ad07",
   "metadata": {},
   "outputs": [
    {
     "name": "stdout",
     "output_type": "stream",
     "text": [
      "[[  0.           0.          20.25598522 279.4546413    1.        ]\n",
      " [  0.           0.          20.25598522 279.4546413    1.        ]\n",
      " [ 21.5742147    0.          76.07416785 223.0681843    0.5       ]]\n"
     ]
    }
   ],
   "source": [
    "print(array[:3,18:])"
   ]
  },
  {
   "cell_type": "code",
   "execution_count": 12,
   "id": "e256de7c",
   "metadata": {},
   "outputs": [
    {
     "name": "stdout",
     "output_type": "stream",
     "text": [
      "[[ 6.00000000e+00 -9.00000000e-02  0.00000000e+00 ...  2.02559852e+01\n",
      "   2.79454641e+02  1.00000000e+00]\n",
      " [ 2.33333333e+00 -9.00000000e-02  0.00000000e+00 ...  2.02559852e+01\n",
      "   2.79454641e+02  1.00000000e+00]\n",
      " [ 7.90000000e+01 -1.40000000e-01  0.00000000e+00 ...  7.60741678e+01\n",
      "   2.23068184e+02  5.00000000e-01]\n",
      " ...\n",
      " [ 2.00000000e+00  3.60000000e-01  0.00000000e+00 ...  8.45799261e+01\n",
      "   3.94431707e+02  5.00000000e-01]\n",
      " [ 1.50000000e+01  3.60000000e-01  0.00000000e+00 ...  8.45799261e+01\n",
      "   2.82386669e+02  5.00000000e-01]\n",
      " [ 3.00000000e-01  0.00000000e+00  0.00000000e+00 ...  8.45799261e+01\n",
      "   2.43000629e+02  5.00000000e-01]]\n"
     ]
    }
   ],
   "source": [
    "array = np.delete(array, 0, 1)\n",
    "print(array)"
   ]
  },
  {
   "cell_type": "code",
   "execution_count": 13,
   "id": "06a3ecf5",
   "metadata": {},
   "outputs": [
    {
     "name": "stdout",
     "output_type": "stream",
     "text": [
      "53.72029602831553\n"
     ]
    }
   ],
   "source": [
    "print(np.mean(array))"
   ]
  },
  {
   "cell_type": "code",
   "execution_count": 14,
   "id": "53298bd2",
   "metadata": {},
   "outputs": [
    {
     "name": "stdout",
     "output_type": "stream",
     "text": [
      "maximum property: 646.1013477\n",
      "minimum property: -0.27\n",
      "standard deviation: 98.0360663022302\n"
     ]
    }
   ],
   "source": [
    "maxval, minval, stdval = np.max(array), np.min(array), np.std(array)\n",
    "\n",
    "print('maximum property:', maxval)\n",
    "print('minimum property:', minval)\n",
    "print('standard deviation:', stdval)"
   ]
  },
  {
   "cell_type": "code",
   "execution_count": 15,
   "id": "13827779",
   "metadata": {},
   "outputs": [
    {
     "name": "stdout",
     "output_type": "stream",
     "text": [
      "[ 6.00000000e+00 -9.00000000e-02  0.00000000e+00  0.00000000e+00\n",
      " -9.00000000e-02  0.00000000e+00  0.00000000e+00  0.00000000e+00\n",
      "  0.00000000e+00  2.72156501e+02  9.41842903e+01  1.88368581e+02\n",
      "  1.88368581e+02  0.00000000e+00  0.00000000e+00  0.00000000e+00\n",
      "  9.41842903e+01  0.00000000e+00  0.00000000e+00  2.02559852e+01\n",
      "  2.79454641e+02  1.00000000e+00]\n",
      "279.4546413\n"
     ]
    }
   ],
   "source": [
    "print(array[0,:])\n",
    "print(np.max(array[0,:]))"
   ]
  },
  {
   "cell_type": "code",
   "execution_count": 16,
   "id": "91e01b80",
   "metadata": {},
   "outputs": [
    {
     "name": "stdout",
     "output_type": "stream",
     "text": [
      "[ 3.08195303e+01  2.47230321e-02 -2.65597668e-02 -1.11370262e-02\n",
      " -2.74344023e-02 -4.00874636e-02 -1.54810496e-02 -1.09766764e-01\n",
      "  5.18950437e-01  3.00224099e+02  7.87582274e+01  1.38170875e+02\n",
      "  1.38170875e+02  6.06081019e+00  1.13154699e+01  3.23403644e+01\n",
      "  5.94126474e+01  7.38168047e+00  2.10248945e+01  5.16751691e+01\n",
      "  3.05429392e+02  7.49271137e-01]\n"
     ]
    }
   ],
   "source": [
    "print(np.mean(array, axis=0))"
   ]
  },
  {
   "cell_type": "code",
   "execution_count": 17,
   "id": "be0a7d9b",
   "metadata": {},
   "outputs": [
    {
     "name": "stdout",
     "output_type": "stream",
     "text": [
      "(22,)\n"
     ]
    }
   ],
   "source": [
    "print(np.mean(array, axis=0).shape)"
   ]
  },
  {
   "cell_type": "code",
   "execution_count": 18,
   "id": "c18d7432",
   "metadata": {},
   "outputs": [
    {
     "name": "stdout",
     "output_type": "stream",
     "text": [
      "[51.99058494 51.82391827 34.7444164  47.51821009 53.10204261 46.88745401\n",
      " 56.56150193 62.33442536 36.76296138 51.86558494 51.93376676 51.87694857\n",
      " 51.99058494 51.96785766 51.99058494 52.39967585 48.50888887 51.17339899\n",
      " 52.51430808 51.53703536 51.07226263 51.09764142 51.09006566 51.11279293\n",
      " 51.09385354 51.07112626 51.10521717 51.05976263 51.05976263 51.03703536\n",
      " 51.0824899  51.09385354 51.01430808 51.12794445 52.15067172 59.09881634\n",
      " 59.62154362 81.7668866  84.71718103 85.35354466 64.65989297 70.35633877\n",
      " 64.69777176 47.56366464 36.79705229 43.97138102 46.05687761 53.92547678\n",
      " 65.19569877 58.29873336 61.52907595 25.90992692 38.79831223 47.22487446\n",
      " 47.56474037 29.25618039 36.74523411 33.06116179 40.50612461 35.00590436\n",
      " 64.65231721 64.65231721 64.72049903 64.62958994 64.76595358 64.60686267\n",
      " 64.77731721 65.83413539 55.04347299 56.08892754 70.52307229 70.40375411\n",
      " 70.50602684 70.42648138 70.44920865 70.47193593 70.58557229 70.42193593\n",
      " 70.48329956 70.37193593 70.85829956 70.4946632  70.40375411 70.38102684\n",
      " 70.44920865 70.72761774 37.86605323 54.08456769 40.9980353  65.28660787\n",
      " 42.40487934 67.48111633 68.29929815 40.97894439 58.73055154 49.87170881\n",
      " 61.48362141 54.46929089 45.68393372 42.80692601 48.66797978 45.77484281\n",
      " 43.97138102 48.75888887 48.69070705 74.68138246 74.65865519 74.77229156\n",
      " 74.68138246 74.74956428 78.61320065 78.65865519 78.77229156 78.54501883\n",
      " 78.59047337 78.61320065 78.59047337 46.09096852 46.00005943 46.06824125\n",
      " 45.69011424 45.71238697 39.69894439 46.0227867  46.06824125 46.04551397\n",
      " 46.36369579 46.15915034 46.28415034 46.06824125 46.11369579 46.13642306\n",
      " 46.0227867  46.00005943 46.00005943 46.00005943 46.0227867  46.06824125\n",
      " 46.03415034 46.0227867  46.0227867  50.47733215 46.09096852 47.00005943\n",
      " 46.09096852 46.11369579 46.04551397 46.06824125 46.30687761 46.10233215\n",
      " 46.06824125 46.11369579 46.0227867  46.11369579 46.06824125 46.06824125\n",
      " 46.06824125 46.70460488 46.00005943 46.0227867  46.06824125 46.04551397\n",
      " 46.00005943 46.0227867  46.04551397 46.00005943 46.00005943 46.68187761\n",
      " 47.11369579 73.67545405 86.82517217 53.60184042 53.60184042 53.73820405\n",
      " 53.69274951 53.69274951 53.67002223 53.73820405 53.64729496 53.62456769\n",
      " 53.85184042 53.77002223 53.82911314 53.69274951 54.32911314 53.71547678\n",
      " 49.2855413  49.26281403 49.21735948 49.33099585 49.26281403 49.17190494\n",
      " 49.33099585 49.21735948 49.19463221 49.05826857 50.79240942 51.5651367\n",
      " 51.90604579 50.8151367  50.8151367  50.88331851 50.79240942 50.79240942\n",
      " 50.79240942 63.03017427 89.04005178 89.10823359 44.67502991 89.06277905\n",
      " 89.13096087 88.62524944 23.94910859 54.63289747 59.27904479 61.31193575\n",
      " 68.90962583 80.16916601 73.51560969 76.52277046 99.19594174 98.01204849\n",
      " 27.78408999 50.54895434 25.83445497 48.76477387 48.50888887 40.86076257\n",
      " 49.68989063 46.25807245 50.52622706 50.79240942 88.99459723 50.59440888\n",
      " 50.82168161 51.17339899 42.71601692 64.66241822 43.9941083  43.92592648\n",
      " 43.7441083  43.90319921 47.86825334 47.27734425 47.61825334 25.79629055\n",
      " 47.56366464 57.69435517 47.45002827 47.427301   47.40457373 47.427301\n",
      " 56.77609633 56.57155087 47.54093736 36.75159775 47.56366464 38.23657776\n",
      " 38.21385049 44.03956284 38.21385049 38.32748685 42.30475958 42.19112321\n",
      " 38.66194859 36.72432502 53.33762084 53.24671175 53.2921663  53.31489357\n",
      " 53.33762084 53.2921663  53.33762084 53.2921663  53.26943903 53.2921663\n",
      " 53.31489357 53.26943903 53.33762084 53.31489357 53.31489357 53.32625721\n",
      " 53.31489357 53.31489357 53.36034812 53.33762084 53.2921663  42.87871884\n",
      " 42.21962793 43.85599157 53.96748921 51.74058494 36.76523411 37.29705229\n",
      " 44.00547193 67.5038436  36.74705229 38.19112321 51.83149403 64.60686267\n",
      " 51.78603948 51.87694857 51.80876676 36.77432502 44.03956284 36.91523411\n",
      " 36.75159775 41.18341593 41.11523411 41.16068865 36.75159775 51.78603948\n",
      " 43.92592648 36.77432502 43.51683557 36.81977956 51.80876676 46.92941991\n",
      " 48.59979796 57.51253699 61.73980971 51.80876676 36.71977956 54.30136226\n",
      " 51.78129472 51.98198261 72.39885502 72.30794593 72.30794593 72.37612775\n",
      " 72.35340048 72.48976411 72.33067321 71.62361426 71.64634153 71.73725062\n",
      " 71.73725062 71.69179607 71.72588698 71.80543244 71.6690688  47.11114202\n",
      " 36.71977956]\n"
     ]
    }
   ],
   "source": [
    "print(np.mean(array, axis=1))"
   ]
  },
  {
   "cell_type": "code",
   "execution_count": 19,
   "id": "2947bafd",
   "metadata": {},
   "outputs": [
    {
     "name": "stdout",
     "output_type": "stream",
     "text": [
      "223.0681843\n"
     ]
    }
   ],
   "source": [
    "print(np.max(array[2,:]))"
   ]
  },
  {
   "cell_type": "code",
   "execution_count": 20,
   "id": "02f96541",
   "metadata": {},
   "outputs": [
    {
     "name": "stdout",
     "output_type": "stream",
     "text": [
      "(0, 22)\n"
     ]
    }
   ],
   "source": [
    "print(array[3:3,:].shape)"
   ]
  },
  {
   "cell_type": "code",
   "execution_count": 21,
   "id": "38bc219c",
   "metadata": {},
   "outputs": [
    {
     "name": "stdout",
     "output_type": "stream",
     "text": [
      "[79.   -0.14  0.    0.    0.   -0.17  0.  ]\n"
     ]
    }
   ],
   "source": [
    "molecule3_first7features = array[2, :7]\n",
    "print(molecule3_first7features)"
   ]
  },
  {
   "cell_type": "code",
   "execution_count": 22,
   "id": "dae66be3",
   "metadata": {},
   "outputs": [
    {
     "name": "stdout",
     "output_type": "stream",
     "text": [
      "[-79.14   0.14   0.     0.    -0.17   0.17]\n"
     ]
    }
   ],
   "source": [
    "print(np.diff(molecule3_first7features))"
   ]
  },
  {
   "cell_type": "code",
   "execution_count": 23,
   "id": "c5e6826c",
   "metadata": {
    "scrolled": true
   },
   "outputs": [
    {
     "data": {
      "text/plain": "<Figure size 432x288 with 1 Axes>",
      "image/png": "[encoded data removed]"
     },
     "metadata": {
      "needs_background": "light"
     },
     "output_type": "display_data"
    }
   ],
   "source": [
    "import matplotlib.pyplot\n",
    "image = matplotlib.pyplot.imshow(array[:50,:])\n",
    "matplotlib.pyplot.show()"
   ]
  },
  {
   "cell_type": "code",
   "execution_count": 24,
   "id": "28716410",
   "metadata": {},
   "outputs": [
    {
     "data": {
      "text/plain": "<Figure size 432x288 with 1 Axes>",
      "image/png": "[encoded data removed]"
     },
     "metadata": {
      "needs_background": "light"
     },
     "output_type": "display_data"
    }
   ],
   "source": [
    "ave_feature_value = np.mean(array, axis=0)\n",
    "ave_plot = matplotlib.pyplot.plot(ave_feature_value)\n",
    "matplotlib.pyplot.show()"
   ]
  },
  {
   "cell_type": "code",
   "execution_count": 25,
   "id": "70e1a9b4",
   "metadata": {},
   "outputs": [
    {
     "data": {
      "text/plain": "<Figure size 432x288 with 1 Axes>",
      "image/png": "[encoded data removed]"
     },
     "metadata": {
      "needs_background": "light"
     },
     "output_type": "display_data"
    }
   ],
   "source": [
    "max_plot = matplotlib.pyplot.plot(np.max(array, axis=0))\n",
    "matplotlib.pyplot.show()"
   ]
  },
  {
   "cell_type": "code",
   "execution_count": 26,
   "id": "9bde1425",
   "metadata": {},
   "outputs": [
    {
     "data": {
      "text/plain": "<Figure size 432x288 with 1 Axes>",
      "image/png": "[encoded data removed]"
     },
     "metadata": {
      "needs_background": "light"
     },
     "output_type": "display_data"
    }
   ],
   "source": [
    "max_plot = matplotlib.pyplot.plot(np.min(array, axis=0))\n",
    "matplotlib.pyplot.show()"
   ]
  },
  {
   "cell_type": "code",
   "execution_count": 27,
   "id": "a720067a",
   "metadata": {},
   "outputs": [
    {
     "data": {
      "text/plain": "<Figure size 720x216 with 3 Axes>",
      "image/png": "[encoded data removed]"
     },
     "metadata": {
      "needs_background": "light"
     },
     "output_type": "display_data"
    }
   ],
   "source": [
    "data = np.loadtxt(fname='combined-no-headers.csv', delimiter=',')\n",
    "array = np.delete(array, 0, 1)\n",
    "\n",
    "fig = matplotlib.pyplot.figure(figsize=(10.0, 3.0))\n",
    "\n",
    "axes1 = fig.add_subplot(1, 3, 1)\n",
    "axes2 = fig.add_subplot(1, 3, 2)\n",
    "axes3 = fig.add_subplot(1, 3, 3)\n",
    "\n",
    "axes1.set_ylabel('average')\n",
    "axes1.plot(np.mean(data, axis=0))\n",
    "\n",
    "axes2.set_ylabel('max')\n",
    "axes2.plot(np.max(data, axis=0))\n",
    "\n",
    "axes3.set_ylabel('min')\n",
    "axes3.plot(np.min(data, axis=0))\n",
    "\n",
    "fig.tight_layout()\n",
    "\n",
    "matplotlib.pyplot.savefig('features.png')\n",
    "matplotlib.pyplot.show()"
   ]
  },
  {
   "cell_type": "code",
   "execution_count": 28,
   "id": "5209e950",
   "metadata": {},
   "outputs": [
    {
     "data": {
      "text/plain": "<Figure size 720x216 with 3 Axes>",
      "image/png": "[encoded data removed]"
     },
     "metadata": {
      "needs_background": "light"
     },
     "output_type": "display_data"
    }
   ],
   "source": [
    "data = np.loadtxt(fname='combined-no-headers.csv', delimiter=',')\n",
    "array = np.delete(array, 0, 1)\n",
    "\n",
    "fig = matplotlib.pyplot.figure(figsize=(10.0, 3.0))\n",
    "\n",
    "axes1 = fig.add_subplot(1, 3, 1)\n",
    "axes2 = fig.add_subplot(1, 3, 2)\n",
    "axes3 = fig.add_subplot(1, 3, 3)\n",
    "\n",
    "axes1.set_ylabel('average')\n",
    "axes1.plot(np.mean(data, axis=0), drawstyle='steps-mid')\n",
    "\n",
    "axes2.set_ylabel('max')\n",
    "axes2.plot(np.max(data, axis=0), drawstyle='steps-mid')\n",
    "\n",
    "axes3.set_ylabel('min')\n",
    "axes3.plot(np.min(data, axis=0), drawstyle='steps-mid')\n",
    "\n",
    "fig.tight_layout()\n",
    "\n",
    "matplotlib.pyplot.savefig('features_stepped.png')\n",
    "matplotlib.pyplot.show()"
   ]
  },
  {
   "cell_type": "markdown",
   "id": "cb823c71",
   "metadata": {},
   "source": [
    "## Pandas\n",
    "Pandas is another library (like math) that contains functions specific for data analysis. It allows us to open data files and perform actions on the data. It is very common among professional programmers to give pandas the nickname 'pd' when it is imported."
   ]
  },
  {
   "cell_type": "code",
   "execution_count": 29,
   "id": "03294864",
   "metadata": {},
   "outputs": [],
   "source": [
    "import pandas as pd"
   ]
  },
  {
   "cell_type": "markdown",
   "id": "979f55c5",
   "metadata": {},
   "source": [
    "We have 4 datasets files for the RhCASA notebook: 'Acyclic', 'Cyclic' 'Cyclohexenone' and 'Combined'. These are all csv files so we can open these using the function read_csv. Pandas will convert these csv files into what it calls a Data Frame. This is essentially a table of data that can be edited."
   ]
  },
  {
   "cell_type": "code",
   "execution_count": 30,
   "id": "f050b686",
   "metadata": {},
   "outputs": [
    {
     "name": "stdout",
     "output_type": "stream",
     "text": [
      "     Unnamed: 0   %top   ER1   ER2  ER3   ER4  ER5  ER6   ER7  EZ  ...  \\\n",
      "0             0   2.25 -0.09  0.00  0.0 -0.09  0.0  0.0  0.00   1  ...   \n",
      "1             1   2.50 -0.09  0.00  0.0 -0.09  0.0  0.0  0.00   1  ...   \n",
      "2             2   5.00 -0.09  0.00  0.0 -0.09  0.0  0.0  0.00   1  ...   \n",
      "3             3   5.00 -0.09  0.00  0.0 -0.09  0.0  0.0  0.00   1  ...   \n",
      "4             4   3.50 -0.01 -0.17  0.0 -0.01  0.0  0.0 -0.17   1  ...   \n",
      "..          ...    ...   ...   ...  ...   ...  ...  ...   ...  ..  ...   \n",
      "174         174   2.50  0.36  0.00  0.0 -0.17  0.0  0.0 -0.15   1  ...   \n",
      "175         175   3.25  0.36  0.00  0.0 -0.17  0.0  0.0 -0.15   1  ...   \n",
      "176         176   5.00  0.36  0.00  0.0 -0.17  0.0  0.0 -0.15   1  ...   \n",
      "177         177   2.00  0.36  0.00  0.0 -0.17  0.0  0.0 -0.15   1  ...   \n",
      "178         178  15.00  0.36  0.00  0.0 -0.17  0.0  0.0 -0.15   1  ...   \n",
      "\n",
      "                                       boron reagent  equivs boron reagent  \\\n",
      "0                                   OB(C1=CC=CC=C1)O                   2.0   \n",
      "1                                   OB(C1=CC=CC=C1)O                   2.0   \n",
      "2                                   OB(C1=CC=CC=C1)O                   3.0   \n",
      "3    C1(B2OB(C3=CC=CC=C3)OB(C4=CC=CC=C4)O2)=CC=CC=C1                   2.0   \n",
      "4                                   OB(C1=CC=CC=C1)O                   2.0   \n",
      "..                                               ...                   ...   \n",
      "174                                 OB(C1=CC=CC=C1)O                   2.4   \n",
      "175                              CC1=CC(B(O)O)=CC=C1                   2.4   \n",
      "176                                 OB(C1=CC=CC=C1)O                   2.0   \n",
      "177                                 OB(C1=CC=CC=C1)O                   2.4   \n",
      "178                                 OB(C1=CC=CC=C1)O                   2.4   \n",
      "\n",
      "     ligand  mol% Rh  mol% ligand      solvent  \\\n",
      "0      L3.1      1.5          3.0  dioxane/H2O   \n",
      "1      L3.1      1.5          3.3  dioxane/H2O   \n",
      "2      L3.1      2.5          5.5  dioxane/H2O   \n",
      "3      L3.1      1.5          3.0  dioxane/H2O   \n",
      "4     L3.10      1.5          3.6      dioxane   \n",
      "..      ...      ...          ...          ...   \n",
      "174   L3.86      2.5          6.0  dioxane/H2O   \n",
      "175   L3.86      2.5          6.0  dioxane/H2O   \n",
      "176   L3.86      2.5          6.0  dioxane/H2O   \n",
      "177   L3.86      2.5          6.0  dioxane/H2O   \n",
      "178   L3.87      2.5          6.0  dioxane/H2O   \n",
      "\n",
      "                                       substrate  temp  time  yield  \n",
      "0                               CC(/C=C/C(C)C)=O    30   3.0   81.0  \n",
      "1                               CC(/C=C/CCCCC)=O    30   1.0   84.0  \n",
      "2              O=C(/C=C/C(OC(C)(C)C)=O)OC(C)(C)C    50   3.0   78.0  \n",
      "3                            O=C(/C=C/CCC)OC(C)C    50   1.0   73.0  \n",
      "4                               CC(/C=C/C(C)C)=O    25   1.0   91.0  \n",
      "..                                           ...   ...   ...    ...  \n",
      "174                 CCCC/C=C/C1=NC2=CC=CC=C2C=C1    80   0.5   56.0  \n",
      "175                 CCCC/C=C/C1=NC2=CC=CC=C2C=C1    80   0.5   71.0  \n",
      "176      C12=CC=CC=C1N=CC(/C=C/CCC3=CC=CC=C3)=N2    80   0.5   80.0  \n",
      "177  O=[N+](C1=CC=C(/C=C/CCC2=CC=CC=C2)C=C1)[O-]    80   0.5   35.0  \n",
      "178  O=[N+](C1=CC=C(/C=C/CCC2=CC=CC=C2)C=C1)[O-]   120   0.5   76.0  \n",
      "\n",
      "[179 rows x 40 columns]\n"
     ]
    }
   ],
   "source": [
    "# df = dataframe\n",
    "df = pd.read_csv('Acyclic.csv')\n",
    "print(df)"
   ]
  },
  {
   "cell_type": "markdown",
   "id": "161a5d8f",
   "metadata": {},
   "source": [
    "Our dataframe has 179 rows and 40 columns. This too large for an example to learn from, but real dataframes can be of any size or shape. For this example, lets cut it down to just a few columns that we can work with more easily, using the filter function (filter the columns so that only those listed are kept)."
   ]
  },
  {
   "cell_type": "code",
   "execution_count": 31,
   "id": "3ca88bef",
   "metadata": {},
   "outputs": [
    {
     "name": "stdout",
     "output_type": "stream",
     "text": [
      "         solvent   %top  temp  time  yield\n",
      "0    dioxane/H2O   2.25    30   3.0   81.0\n",
      "1    dioxane/H2O   2.50    30   1.0   84.0\n",
      "2    dioxane/H2O   5.00    50   3.0   78.0\n",
      "3    dioxane/H2O   5.00    50   1.0   73.0\n",
      "4        dioxane   3.50    25   1.0   91.0\n",
      "..           ...    ...   ...   ...    ...\n",
      "174  dioxane/H2O   2.50    80   0.5   56.0\n",
      "175  dioxane/H2O   3.25    80   0.5   71.0\n",
      "176  dioxane/H2O   5.00    80   0.5   80.0\n",
      "177  dioxane/H2O   2.00    80   0.5   35.0\n",
      "178  dioxane/H2O  15.00   120   0.5   76.0\n",
      "\n",
      "[179 rows x 5 columns]\n",
      "0      dioxane/H2O\n",
      "1      dioxane/H2O\n",
      "2      dioxane/H2O\n",
      "3      dioxane/H2O\n",
      "4          dioxane\n",
      "          ...     \n",
      "174    dioxane/H2O\n",
      "175    dioxane/H2O\n",
      "176    dioxane/H2O\n",
      "177    dioxane/H2O\n",
      "178    dioxane/H2O\n",
      "Name: solvent, Length: 179, dtype: object\n"
     ]
    }
   ],
   "source": [
    "df = df.filter(['solvent', '%top', 'temp', 'time', 'yield'])\n",
    "print(df)\n",
    "print(df['solvent']) # print just the solvent column"
   ]
  },
  {
   "cell_type": "code",
   "execution_count": 32,
   "id": "b6b7f278",
   "metadata": {},
   "outputs": [
    {
     "data": {
      "text/plain": "array([['dioxane/H2O', 2.25, 30, 3.0, 81.0],\n       ['dioxane/H2O', 2.5, 30, 1.0, 84.0],\n       ['dioxane/H2O', 5.0, 50, 3.0, 78.0],\n       ['dioxane/H2O', 5.0, 50, 1.0, 73.0],\n       ['dioxane', 3.5, 25, 1.0, 91.0],\n       ['MeOH/CH2Cl2', 33.0, 60, 1.0, 89.0],\n       ['MeOH/CH2Cl2', 11.5, 60, 1.0, 99.0],\n       ['MeOH/CH2Cl2', 1.275, 60, 1.0, 92.0],\n       ['i-PrOH/CH2Cl2', 1.833333333, 60, 1.0, 99.0],\n       ['i-PrOH/CH2Cl2', 1.666666667, 60, 1.0, 85.0],\n       ['i-PrOH/CH2Cl2', 2.166666667, 60, 1.0, 99.0],\n       ['i-PrOH/CH2Cl2', 1.75, 60, 1.0, 99.0],\n       ['i-PrOH/CH2Cl2', 1.25, 60, 1.0, 99.0],\n       ['i-PrOH/CH2Cl2', 2.0, 60, 1.0, 99.0],\n       ['i-PrOH/CH2Cl2', 1.0, 60, 1.0, 99.0],\n       ['i-PrOH/CH2Cl2', 1.0, 60, 1.0, 99.0],\n       ['i-PrOH/CH2Cl2', 0.5, 60, 1.0, 99.0],\n       ['i-PrOH/CH2Cl2', 1.5, 60, 1.0, 77.0],\n       ['i-PrOH/CH2Cl2', 1.75, 60, 1.0, 99.0],\n       ['MeOH/CH2Cl2', 1.0, 60, 1.0, 83.0],\n       ['i-PrOH/CH2Cl2', 2.5, 60, 1.0, 74.0],\n       ['toluene/H2O', 25.0, 50, 23.0, 67.0],\n       ['dioxane', 11.5, 25, 1.0, 90.0],\n       ['toluene/H2O', 23.0, 50, 23.0, 85.0],\n       ['dioxane', 11.0, 25, 1.0, 72.0],\n       ['dioxane', 8.5, 25, 1.0, 100.0],\n       ['toluene/H2O', 22.5, 50, 23.0, 56.0],\n       ['EtOH', 2.0, 30, 2.0, 89.0],\n       ['EtOH', 2.0, 30, 2.0, 89.0],\n       ['EtOH', 3.5, 30, 8.0, 99.0],\n       ['toluene/H2O', 28.0, 50, 23.0, 98.0],\n       ['dioxane', 4.5, 25, 1.0, 85.0],\n       ['toluene/H2O', 27.5, 50, 23.0, 90.0],\n       ['dioxane', 3.625, 25, 1.0, 87.0],\n       ['EtOH', 1.0, 25, 96.0, 68.0],\n       ['EtOH', 3.25, 25, 11.0, 86.0],\n       ['EtOH', 1.5, 25, 5.5, 72.0],\n       ['EtOH', 2.0, 25, 50.0, 74.0],\n       ['EtOH', 2.5, 25, 25.0, 77.0],\n       ['EtOH', 5.0, 25, 24.0, 94.0],\n       ['EtOH', 1.4, 25, 96.0, 80.0],\n       ['EtOH', 2.75, 25, 16.0, 99.0],\n       ['EtOH', 0.3, 25, 72.0, 99.0],\n       ['EtOH', 11.0, 25, 27.0, 98.0],\n       ['EtOH', 3.0, 25, 16.0, 95.0],\n       ['EtOH', 1.0, 60, 2.0, 81.0],\n       ['EtOH', 0.5, 60, 14.0, 99.5],\n       ['EtOH', 2.0, 60, 23.0, 88.0],\n       ['toluene/H2O', 8.125, 50, 1.5, 85.0],\n       ['dioxane/H2O', 11.0, 30, 1.0, 89.0],\n       ['dioxane/H2O', 4.0, 30, 1.0, 90.0],\n       ['dioxane', 6.0, 25, 1.0, 74.0],\n       ['toluene/H2O', 24.0, 50, 23.0, 95.0],\n       ['dioxane/H2O', 11.0, 30, 1.0, 91.0],\n       ['dioxane/H2O', 7.5, 30, 1.0, 88.0],\n       ['dioxane/H2O', 19.5, 25, 3.0, 95.0],\n       ['MeOH/H2O', 5.0, 50, 1.0, 91.0],\n       ['dioxane/H2O', 5.0, 50, 3.0, 90.0],\n       ['dioxane/H2O', 4.5, 50, 3.0, 80.0],\n       ['dioxane/H2O', 7.0, 50, 3.0, 78.0],\n       ['dioxane/H2O', 5.0, 50, 3.0, 85.0],\n       ['dioxane/H2O', 6.5, 50, 3.0, 91.0],\n       ['dioxane', 1.5, 50, 6.0, 90.0],\n       ['dioxane/H2O', 7.5, 30, 1.0, 95.0],\n       ['dioxane/H2O', 5.75, 30, 1.0, 90.0],\n       ['dioxane/H2O', 1.0, 30, 1.0, 90.0],\n       ['dioxane/H2O', 2.0, 30, 3.0, 93.0],\n       ['dioxane/H2O', 2.5, 30, 1.0, 93.0],\n       ['dioxane', 21.5, 20, 1.0, 99.0],\n       ['dioxane', 1.5, 20, 1.0, 95.0],\n       ['dioxane', 2.0, 20, 1.0, 96.0],\n       ['dioxane', 0.5, 20, 1.0, 94.0],\n       ['dioxane', 1.0, 20, 1.0, 99.0],\n       ['dioxane', 6.25, 20, 1.0, 33.0],\n       ['dioxane', 1.75, 20, 1.0, 95.0],\n       ['dioxane', 1.0, 20, 1.0, 92.0],\n       ['dioxane', 2.0, 20, 1.0, 90.0],\n       ['dioxane', 2.0, 20, 1.0, 92.0],\n       ['dioxane', 1.0, 30, 2.0, 96.0],\n       ['dioxane', 1.0, 30, 2.0, 97.0],\n       ['dioxane', 1.0, 20, 1.0, 91.0],\n       ['dioxane/H2O', 15.0, 50, 20.0, 75.0],\n       ['dioxane', 24.0, 20, 1.0, 74.0],\n       ['dioxane/H2O', 96.0, 25, 3.0, 99.0],\n       ['dioxane/H2O', 91.5, 25, 3.0, 98.0],\n       ['dioxane', 0.5, 50, 6.0, 95.0],\n       ['dioxane', 0.5, 50, 6.0, 94.0],\n       ['dioxane', 3.5, 50, 6.0, 90.0],\n       ['dioxane', 2.5, 50, 6.0, 92.0],\n       ['dioxane', 2.5, 50, 6.0, 94.0],\n       ['dioxane', 2.0, 50, 6.0, 95.0],\n       ['dioxane', 3.5, 50, 6.0, 96.0],\n       ['dioxane', 1.5, 50, 12.0, 91.0],\n       ['dioxane', 1.0, 50, 6.0, 89.0],\n       ['dioxane/H2O', 4.2, 50, 6.0, 94.0],\n       ['dioxane/H2O', 2.5, 50, 6.0, 88.0],\n       ['dioxane/H2O', 95.0, 50, 20.0, 92.0],\n       ['dioxane/H2O', 94.5, 50, 20.0, 83.0],\n       ['dioxane/H2O', 93.5, 50, 20.0, 93.0],\n       ['dioxane/H2O', 96.0, 50, 20.0, 84.0],\n       ['dioxane/H2O', 94.5, 50, 20.0, 83.0],\n       ['dioxane/H2O', 92.5, 50, 20.0, 92.0],\n       ['dioxane/H2O', 96.0, 50, 20.0, 92.0],\n       ['dioxane/H2O', 93.5, 50, 20.0, 86.0],\n       ['dioxane/H2O', 93.0, 50, 20.0, 74.0],\n       ['dioxane/H2O', 90.0, 50, 20.0, 91.0],\n       ['DCM', 16.5, 25, 1.0, 99.0],\n       ['MeOH/CH2Cl2', 24.0, 25, 1.0, 99.0],\n       ['DCM', 2.5, 30, 3.0, 99.0],\n       ['MeOH/CH2Cl2', 1.5, 30, 3.0, 99.0],\n       ['dioxane/H2O', 25.5, 25, 3.0, 99.0],\n       ['dioxane/H2O', 16.5, 25, 3.0, 98.0],\n       ['dioxane/H2O', 21.5, 25, 3.0, 98.0],\n       ['MeOH/CH2Cl2', 12.75, 30, 3.0, 95.0],\n       ['MeOH/CH2Cl2', 13.5, 30, 3.0, 98.0],\n       ['MeOH/CH2Cl2', 7.625, 30, 3.0, 93.0],\n       ['MeOH/CH2Cl2', 12.5, 30, 3.0, 99.0],\n       ['MeOH/CH2Cl2', 14.75, 30, 3.0, 96.0],\n       ['MeOH/CH2Cl2', 6.25, 30, 3.0, 43.0],\n       ['dioxane/H2O', 14.0, 25, 3.0, 98.0],\n       ['dioxane/H2O', 15.0, 80, 16.0, 73.0],\n       ['dioxane/H2O', 7.0, 25, 2.0, 74.0],\n       ['MeOH/CH2Cl2', 95.0, 25, 1.0, 40.0],\n       ['dioxane/H2O', 95.0, 25, 0.1, 68.0],\n       ['dioxane/H2O', 94.5, 25, 1.0, 78.0],\n       ['dioxane/H2O', 94.0, 25, 1.0, 93.0],\n       ['dioxane/H2O', 4.5, 25, 3.0, 99.0],\n       ['dioxane/H2O', 91.5, 50, 1.25, 50.0],\n       ['MeOH/H2O', 96.5, 50, 1.25, 63.0],\n       ['MeOH/H2O', 94.5, 50, 22.0, 70.0],\n       ['MeOH/H2O', 95.5, 50, 2.5, 85.0],\n       ['dioxane/H2O', 96.0, 50, 1.25, 43.0],\n       ['MeOH/H2O', 96.5, 50, 1.25, 90.0],\n       ['MeOH/H2O', 95.5, 50, 4.0, 76.0],\n       ['MeOH/H2O', 96.5, 50, 1.25, 78.0],\n       ['MeOH/H2O', 95.5, 50, 1.25, 87.0],\n       ['MeOH/H2O', 95.0, 50, 1.25, 78.0],\n       ['MeOH/H2O', 95.5, 50, 14.0, 68.0],\n       ['MeOH/H2O', 96.0, 50, 14.0, 62.0],\n       ['dioxane/H2O', 95.0, 50, 14.0, 65.0],\n       ['dioxane/H2O', 96.5, 50, 14.0, 70.0],\n       ['MeOH/H2O', 96.0, 50, 24.0, 69.0],\n       ['MeOH/H2O', 96.0, 50, 1.25, 76.0],\n       ['MeOH/H2O', 96.25, 50, 1.25, 85.0],\n       ['MeOH/H2O', 96.0, 50, 1.25, 78.0],\n       ['MeOH/H2O', 96.0, 50, 1.25, 84.0],\n       ['MeOH/H2O', 97.0, 50, 1.5, 95.0],\n       ['MeOH/H2O', 96.5, 50, 2.0, 93.0],\n       ['MeOH/H2O', 95.5, 50, 18.5, 95.0],\n       ['dioxane/H2O', 74.0, 50, 1.25, 43.0],\n       ['dioxane/H2O', 59.5, 50, 18.0, 71.0],\n       ['dioxane/H2O', 95.5, 50, 18.0, 85.0],\n       ['dioxane/H2O', 80.0, 50, 1.25, 45.0],\n       ['dioxane', 0.3, 50, 3.0, 97.0],\n       ['dioxane/H2O', 3.6, 30, 3.0, 84.0],\n       ['toluene/H2O', 97.5, 100, 12.0, 83.0],\n       ['toluene/H2O', 96.0, 100, 12.0, 72.0],\n       ['toluene/H2O', 97.0, 100, 18.0, 88.0],\n       ['dioxane/H2O', 5.0, 80, 16.0, 41.0],\n       ['toluene', 98.0, 100, 12.0, 82.0],\n       ['dioxane/H2O', 6.5, 80, 0.5, 84.0],\n       ['dioxane/H2O', 2.5, 80, 0.5, 24.0],\n       ['dioxane/H2O', 5.0, 80, 0.5, 44.0],\n       ['dioxane/H2O', 4.5, 80, 0.5, 91.0],\n       ['dioxane/H2O', 2.5, 80, 16.0, 72.0],\n       ['dioxane/H2O', 2.5, 100, 16.0, 62.0],\n       ['dioxane/H2O', 4.0, 100, 16.0, 56.0],\n       ['dioxane/H2O', 3.5, 80, 1.5, 88.0],\n       ['dioxane/H2O', 6.5, 80, 1.0, 79.0],\n       ['dioxane/H2O', 3.0, 80, 0.5, 95.0],\n       ['dioxane/H2O', 1.0, 80, 0.5, 72.0],\n       ['dioxane/H2O', 1.5, 80, 0.5, 65.0],\n       ['dioxane/H2O', 3.5, 80, 0.5, 69.0],\n       ['dioxane/H2O', 3.5, 80, 0.5, 78.0],\n       ['dioxane/H2O', 2.5, 80, 0.5, 56.0],\n       ['dioxane/H2O', 3.25, 80, 0.5, 71.0],\n       ['dioxane/H2O', 5.0, 80, 0.5, 80.0],\n       ['dioxane/H2O', 2.0, 80, 0.5, 35.0],\n       ['dioxane/H2O', 15.0, 120, 0.5, 76.0]], dtype=object)"
     },
     "execution_count": 32,
     "metadata": {},
     "output_type": "execute_result"
    }
   ],
   "source": [
    "df.to_numpy()"
   ]
  },
  {
   "cell_type": "markdown",
   "id": "bcb2319b",
   "metadata": {},
   "source": [
    "## Defining our own functions\n",
    "If we would like to perform a task in python that doesn't already have an existing function, we can write our own. In this example we will write a funciton that will calculate the mean of a series of given numbers (functions to do this already exist, ths is just an example)."
   ]
  },
  {
   "cell_type": "code",
   "execution_count": 33,
   "id": "226cf82d",
   "metadata": {},
   "outputs": [
    {
     "name": "stdout",
     "output_type": "stream",
     "text": [
      "6.3\n"
     ]
    }
   ],
   "source": [
    "def mean_calc(number_list):\n",
    "    total = 0 # we must define a variable that we can use to add each of the numbers in the list together\n",
    "    for number in number_list: # this will iterate through every number in the list\n",
    "        total = total + number # add the new number to the existing total\n",
    "    \n",
    "    mean = total/len(number_list) # divide the sum of all the numbers by the number of numbers (lenght of the list)\n",
    "    return mean\n",
    "\n",
    "print(mean_calc([1,4,6,5,8,10,3,13.4]))"
   ]
  },
  {
   "cell_type": "code",
   "execution_count": 33,
   "id": "7bc5f1dd",
   "metadata": {},
   "outputs": [],
   "source": []
  }
 ],
 "metadata": {
  "kernelspec": {
   "display_name": "Python 3 (ipykernel)",
   "language": "python",
   "name": "python3"
  },
  "language_info": {
   "codemirror_mode": {
    "name": "ipython",
    "version": 3
   },
   "file_extension": ".py",
   "mimetype": "text/x-python",
   "name": "python",
   "nbconvert_exporter": "python",
   "pygments_lexer": "ipython3",
   "version": "3.8.10"
  }
 },
 "nbformat": 4,
 "nbformat_minor": 5
}