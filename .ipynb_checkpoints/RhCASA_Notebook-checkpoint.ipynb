{
 "cells": [
  {
   "cell_type": "markdown",
   "metadata": {
    "pycharm": {
     "name": "#%% md\n"
    }
   },
   "source": [
    "## Machine Learnt Patterns in Rhodium-Catalysed Asymmteric Michael Addition Using Chiral Diene Ligands"
   ]
  },
  {
   "cell_type": "markdown",
   "metadata": {
    "pycharm": {
     "name": "#%% md\n"
    }
   },
   "source": [
    "# Welcome to the Jupyter Notebook \n",
    "This notebook has been designed as a walk-through guide for each section of our Machine Learning workflow. Here we will train Linear Regression and Random Forests models to find relationships between diene ligands\n",
    "and the asymmetric Michael Addition they perform\n",
    "\n",
    "## Importing Libraries\n",
    "The first part of any python code is installing and calling the appropriate \"libraries\".\n",
    "Libraries are prewritten code that perform lots of work for us behind the scenes.\n",
    "This means less writing code from scratch.\n",
    "Libraries are maintained by different groups and can be downloaded as and when needed for your project.\n",
    "\n",
    "\n",
    "Here we are using Pandas, numpy, math, sys and sklearn (aka sci-kit learn).\n",
    "\n"
   ]
  },
  {
   "cell_type": "code",
   "execution_count": 1,
   "metadata": {
    "pycharm": {
     "is_executing": true,
     "name": "#%%\n"
    }
   },
   "outputs": [
    {
     "ename": "ModuleNotFoundError",
     "evalue": "No module named 'seaborn'",
     "output_type": "error",
     "traceback": [
      "\u001b[0;31m---------------------------------------------------------------------------\u001b[0m",
      "\u001b[0;31mModuleNotFoundError\u001b[0m                       Traceback (most recent call last)",
      "\u001b[0;32m/var/folders/t7/mm1tdtr101z3xh07kxn136xc0000gn/T/ipykernel_54369/2191551469.py\u001b[0m in \u001b[0;36m<module>\u001b[0;34m\u001b[0m\n\u001b[1;32m     19\u001b[0m \u001b[0;32mfrom\u001b[0m \u001b[0msklearn\u001b[0m\u001b[0;34m.\u001b[0m\u001b[0mmetrics\u001b[0m \u001b[0;32mimport\u001b[0m \u001b[0mmean_squared_error\u001b[0m\u001b[0;34m,\u001b[0m \u001b[0mr2_score\u001b[0m\u001b[0;34m\u001b[0m\u001b[0;34m\u001b[0m\u001b[0m\n\u001b[1;32m     20\u001b[0m \u001b[0;34m\u001b[0m\u001b[0m\n\u001b[0;32m---> 21\u001b[0;31m \u001b[0;32mimport\u001b[0m \u001b[0mseaborn\u001b[0m \u001b[0;32mas\u001b[0m \u001b[0msns\u001b[0m\u001b[0;34m\u001b[0m\u001b[0;34m\u001b[0m\u001b[0m\n\u001b[0m\u001b[1;32m     22\u001b[0m \u001b[0;32mimport\u001b[0m \u001b[0mmatplotlib\u001b[0m\u001b[0;34m.\u001b[0m\u001b[0mpyplot\u001b[0m \u001b[0;32mas\u001b[0m \u001b[0mplt\u001b[0m\u001b[0;34m\u001b[0m\u001b[0;34m\u001b[0m\u001b[0m\n",
      "\u001b[0;31mModuleNotFoundError\u001b[0m: No module named 'seaborn'"
     ]
    }
   ],
   "source": [
    "import pandas as pd\n",
    "import numpy as np\n",
    "import math\n",
    "\n",
    "from sys import exit\n",
    "\n",
    "from IPython.display import clear_output\n",
    "\n",
    "from sklearn.model_selection import train_test_split\n",
    "\n",
    "from sklearn.model_selection import KFold\n",
    "from sklearn.preprocessing import RobustScaler\n",
    "from sklearn.model_selection import GridSearchCV\n",
    "from sklearn.linear_model import LinearRegression\n",
    "from sklearn.ensemble import RandomForestRegressor\n",
    "from sklearn.ensemble import GradientBoostingRegressor\n",
    "from sklearn.svm import SVR\n",
    "\n",
    "from sklearn.metrics import mean_squared_error, r2_score\n",
    "\n",
    "import seaborn as sns\n",
    "import matplotlib.pyplot as plt\n"
   ]
  },
  {
   "cell_type": "markdown",
   "metadata": {},
   "source": [
    "With the libraries loaded - or just parts of them - we now move into the main code.\n",
    "\n",
    "## Opening the dataset\n",
    "\n",
    "Here we choose the name of the file we want to use. In our example, the data has been split into 4 subsets: 'Acyclic', 'Cyclic', 'Cyclohexenone' and 'Combined'. The name of the file can be changed here for use on other datasets."
   ]
  },
  {
   "cell_type": "code",
   "execution_count": 2,
   "metadata": {
    "pycharm": {
     "is_executing": true,
     "name": "#%%\n"
    }
   },
   "outputs": [],
   "source": [
    "filename = 'acyclic.csv'"
   ]
  },
  {
   "attachments": {
    "image.png": {
     "image/png": "[encoded data removed]"
    }
   },
   "cell_type": "markdown",
   "metadata": {},
   "source": [
    "Next we define our 'list' of feature names (basically the headings from our CSV file). We can choose as many (or as few) features as we like. \n",
    "We must also define which variable in the csv file is our target variable.\n",
    "The CSV file is read in using the pandas read_csv function, creating something called a dataframe. We then filter the dataframe to only contain the features that we want to use (remove any extra columms).\n",
    "![image.png](attachment:image.png)\n"
   ]
  },
  {
   "cell_type": "code",
   "execution_count": 3,
   "metadata": {
    "pycharm": {
     "is_executing": true,
     "name": "#%%\n"
    }
   },
   "outputs": [],
   "source": [
    "features = ['LVR1', 'LVR2', 'LVR3', 'LVR4', 'LVR5', 'LVR6', 'LVR7' \n",
    "            'ER1', 'ER2', 'ER3', 'ER4', 'ER5', 'ER6', 'ER7', \n",
    "            'SStoutR1', 'SStoutR2', 'SStoutR3', 'SStoutR4', 'VB']\n",
    "target_variable = '%top'\n",
    "features.append(str(target_variable))\n",
    "\n",
    "data = pd.read_csv(filename)\n",
    "data = data.filter(features)"
   ]
  },
  {
   "cell_type": "markdown",
   "metadata": {
    "pycharm": {
     "name": "#%% md\n"
    }
   },
   "source": [
    "With the data read in we also remove any rows containing erroneous or missing values"
   ]
  },
  {
   "cell_type": "code",
   "execution_count": 4,
   "metadata": {
    "pycharm": {
     "is_executing": true,
     "name": "#%%\n"
    }
   },
   "outputs": [
    {
     "name": "stdout",
     "output_type": "stream",
     "text": [
      "           LVR1  LVR2  LVR3       LVR4       LVR5  LVR6   ER2  ER3   ER4  ER5  \\\n",
      "0     94.184290   0.0   0.0  94.184290   0.000000   0.0  0.00  0.0 -0.09  0.0   \n",
      "1     94.184290   0.0   0.0  94.184290   0.000000   0.0  0.00  0.0 -0.09  0.0   \n",
      "2     94.184290   0.0   0.0  94.184290   0.000000   0.0  0.00  0.0 -0.09  0.0   \n",
      "3     94.184290   0.0   0.0  94.184290   0.000000   0.0  0.00  0.0 -0.09  0.0   \n",
      "4     76.888305   0.0   0.0  76.888305  21.574215   0.0 -0.17  0.0 -0.01  0.0   \n",
      "..          ...   ...   ...        ...        ...   ...   ...  ...   ...  ...   \n",
      "174  216.387491   0.0   0.0  21.574215   0.000000   0.0  0.00  0.0 -0.17  0.0   \n",
      "175  216.387491   0.0   0.0  21.574215   0.000000   0.0  0.00  0.0 -0.17  0.0   \n",
      "176  216.387491   0.0   0.0  21.574215   0.000000   0.0  0.00  0.0 -0.17  0.0   \n",
      "177  216.387491   0.0   0.0  21.574215   0.000000   0.0  0.00  0.0 -0.17  0.0   \n",
      "178  104.342452   0.0   0.0  21.574215   0.000000   0.0  0.00  0.0 -0.17  0.0   \n",
      "\n",
      "     ER6   ER7   SStoutR1  SStoutR2   SStoutR3  SStoutR4          VB   %top  \n",
      "0    0.0  0.00  22.511984       0.0  28.083093       0.0  134.623998   2.25  \n",
      "1    0.0  0.00  22.511984       0.0  18.151631       0.0  134.623998   2.50  \n",
      "2    0.0  0.00  26.425538       0.0  26.425538       0.0  134.623998   5.00  \n",
      "3    0.0  0.00  22.101541       0.0  18.722062       0.0  348.031937   5.00  \n",
      "4    0.0 -0.17  22.511984       0.0  28.083093       0.0  134.623998   3.50  \n",
      "..   ...   ...        ...       ...        ...       ...         ...    ...  \n",
      "174  0.0 -0.15  18.540607       0.0  18.365543       0.0  134.623998   2.50  \n",
      "175  0.0 -0.15  18.540607       0.0  18.365543       0.0  151.919984   3.25  \n",
      "176  0.0 -0.15  20.988884       0.0  18.580046       0.0  134.623998   5.00  \n",
      "177  0.0 -0.15  17.138177       0.0  18.580046       0.0  134.623998   2.00  \n",
      "178  0.0 -0.15  17.138177       0.0  18.580046       0.0  134.623998  15.00  \n",
      "\n",
      "[179 rows x 18 columns]\n"
     ]
    }
   ],
   "source": [
    "data = data.dropna(axis=0)\n",
    "print(data)"
   ]
  },
  {
   "cell_type": "markdown",
   "metadata": {},
   "source": [
    "## Heatmap\n",
    "To gain some insight into our data, we can plot a heatmap showing the correlations betweeen each of the features and the target variable."
   ]
  },
  {
   "cell_type": "code",
   "execution_count": null,
   "metadata": {},
   "outputs": [],
   "source": [
    "corr = data.corr()\n",
    "mask = np.zeros_like(corr)\n",
    "mask[np.triu_indices_from(mask)] = True\n",
    "sns.heatmap(corr, cmap='coolwarm', vmin=-1, vmax=1, annot=False, square=True, mask=mask, annot_kws={\"fontsize\": 4})\n",
    "plt.show()"
   ]
  },
  {
   "cell_type": "markdown",
   "metadata": {},
   "source": [
    "## Splitting and scaling the data\n",
    "We can now split our data into the features 'X' and the target variable 'Y'. We then scale the features using a 'Robust Scaler'.\n"
   ]
  },
  {
   "cell_type": "code",
   "execution_count": null,
   "metadata": {
    "pycharm": {
     "is_executing": true,
     "name": "#%%\n"
    }
   },
   "outputs": [],
   "source": [
    "X = data.drop([target_variable], axis = 1)\n",
    "#X = np.array(X)\n",
    "X = RobustScaler().fit_transform(np.array(X))\n",
    "y = data[target_variable]/100"
   ]
  },
  {
   "cell_type": "markdown",
   "metadata": {},
   "source": [
    "## Simple ML\n",
    "For the most basic ML, we can split the data into a training set and a testing set, in a 9:1 size ratio. We then define our model:\n",
    "\n",
    "Linear Regression: model = LinearRegression()\n",
    "\n",
    "Random Forest: model = RandomForestRegressor()\n",
    "\n",
    "We first train this model on the traning set, so it can look for trends within the data. We can then use this trained model to make predictions on the witheld testing set. Following this, we score these predictions by calculating R2 and RMSE."
   ]
  },
  {
   "cell_type": "code",
   "execution_count": null,
   "metadata": {},
   "outputs": [],
   "source": [
    "X_train, X_test, y_train, y_test = train_test_split(X, y, test_size=0.1)\n",
    "\n",
    "model = LinearRegression()\n",
    "model.fit(X_train, y_train)\n",
    "predictions = model.predict(X_test)\n",
    "r2 = r2_score(y_test, predictions)\n",
    "rmse = math.sqrt(mean_squared_error(predictions, y_test))\n",
    "print('R2:', np.round(r2, 3))\n",
    "print('RMSE:', np.round(rmse, 3))"
   ]
  },
  {
   "attachments": {
    "5-fold%20CV.png": {
     "image/png": "[encoded data removed]"
    }
   },
   "cell_type": "markdown",
   "metadata": {},
   "source": [
    "## Cross-Validation\n",
    "If we run the code in the previous section multiple times we get different results! This is beacuse the ability for the machine to predict on the testing set depends on whether it has seen similar examples in the training set. We need a method for getting more consistent results.\n",
    "\n",
    "Cross-Validation is a method for more rigourously measuring the performance of our models. Instead of splitting the data into 2 sets, we split it into (usually) 5. For each iteration, we keep one of the 5 sets separate to use as a testing set, and the remaining 4 are used for training (just like we did previously). We repeat this 5 times, using a different set as the testing set each time.\n",
    "\n",
    "![5-fold%20CV.png](attachment:5-fold%20CV.png)\n",
    "Before CV, we define r2_cv_scores and rmse_cv_scores as 'containers' where we will put our results. We can then calculate the mean and standard deviation of each of the results stored in these 'containers'."
   ]
  },
  {
   "cell_type": "code",
   "execution_count": null,
   "metadata": {},
   "outputs": [],
   "source": [
    "r2_cv_scores = []\n",
    "rmse_cv_scores = []\n",
    "all_predictions = np.array([])\n",
    "all_trues = np.array([])\n",
    "kfold = KFold(n_splits=5, shuffle = True)\n",
    "for train, test in kfold.split(X, y):\n",
    "    model = LinearRegression()\n",
    "    model.fit(X[train], y[train])\n",
    "    predictions = model.predict(X[test]).reshape(1, -1)[0]\n",
    "    #print(pd.DataFrame({'Predictions':predictions, 'Actual': y[test], 'Error': [a for b in range(len(predictions)) \n",
    "    #                                                                            if y[test][b]-predictions[b]>0.1]}))\n",
    "    r2 = r2_score(y[test], predictions)\n",
    "    rmse = math.sqrt(mean_squared_error(predictions, y[test]))\n",
    "    r2_cv_scores.append(r2)\n",
    "    rmse_cv_scores.append(rmse)\n",
    "    all_predictions = np.append(all_predictions, predictions)\n",
    "    all_trues = np.append(all_trues, y[test])\n",
    "\n",
    "print('CV R2 Mean: ', np.round(np.mean(np.array(r2_cv_scores)), 3), '+/-', np.round(np.std(np.array(r2_cv_scores)), 2))\n",
    "print('CV RMSE Mean: ', np.round(np.mean(np.array(rmse_cv_scores)), 3), '+/-', np.round(np.std(np.array(rmse_cv_scores)), 2), '\\n')\n"
   ]
  },
  {
   "cell_type": "markdown",
   "metadata": {},
   "source": [
    "## Visualising the Results\n",
    "Now that we have our R2 and RMSE scores, it would be great if we could visualise what these mean. One common method for this is to plot the predicted results against the actual results. In this context, thats plotting the predicted %top against the actual experimental %top.\n",
    "A perfect prediction would lie somewhere on the line y=x (predicted = true). \n",
    "As not all predictions will be perfect, we can plot a line of best fit y=ax + b and calculate both a and b. A good model would result in a close to 1, and b close to 0. We can plot this line of best fit too."
   ]
  },
  {
   "cell_type": "code",
   "execution_count": null,
   "metadata": {},
   "outputs": [],
   "source": [
    "def calc_a_b(ac, pred):\n",
    "    x = np.sum(ac)\n",
    "    y = np.sum(pred)\n",
    "    x2 = np.sum(np.square(ac))\n",
    "    y2 = np.sum(np.square(pred))\n",
    "    xy = np.sum(ac*pred)\n",
    "    n = len(ac)\n",
    "    a = (n*xy - x*y)/(n*x2 - x**2)\n",
    "    b = (y*x2 - x*xy)/(n*x2 - x**2)\n",
    "    R = (n*xy - x*y)/math.sqrt((n*x2 - x**2)*(n*y2 - y**2))\n",
    "    print(f\"a: {a}  b: {b}  R: {R}\")\n",
    "    print('y = ax + b (red)  R = correlation coefficient')\n",
    "    print('and y=x (blue)')\n",
    "    return a, b, R\n",
    "\n",
    "\n",
    "a, b, R = calc_a_b(all_trues, all_predictions)\n",
    "\n",
    "ax = sns.scatterplot(x=all_trues, y=all_predictions, color='g')\n",
    "ax.set_xlabel(str(\"True \"+ target_variable), fontsize=13)\n",
    "ax.set_ylabel(str(\"Predicted \"+ target_variable), fontsize=13)\n",
    "plt.xlim(np.min(all_trues), np.max(all_trues))\n",
    "plt.ylim(np.min(all_predictions), np.max(all_predictions))\n",
    "plt.plot([-1000, 1000], [-1000, 1000], color='b', linewidth=2)\n",
    "plt.plot([0, 1], [0 * a + b, 1 * a + b], color='r', linewidth=2)\n",
    "\n",
    "plt.show()"
   ]
  },
  {
   "cell_type": "code",
   "execution_count": null,
   "metadata": {},
   "outputs": [],
   "source": []
  },
  {
   "cell_type": "code",
   "execution_count": null,
   "metadata": {},
   "outputs": [],
   "source": []
  }
 ],
 "metadata": {
  "kernelspec": {
   "display_name": "Python 3 (ipykernel)",
   "language": "python",
   "name": "python3"
  },
  "language_info": {
   "codemirror_mode": {
    "name": "ipython",
    "version": 3
   },
   "file_extension": ".py",
   "mimetype": "text/x-python",
   "name": "python",
   "nbconvert_exporter": "python",
   "pygments_lexer": "ipython3",
   "version": "3.8.10"
  }
 },
 "nbformat": 4,
 "nbformat_minor": 1
}
