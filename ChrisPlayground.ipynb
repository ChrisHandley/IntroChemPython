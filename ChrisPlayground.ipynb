{
 "cells": [
  {
   "cell_type": "markdown",
   "metadata": {},
   "source": [
    "# This is a Test - Chris is testing"
   ]
  },
  {
   "cell_type": "markdown",
   "metadata": {},
   "source": [
    "Chris is teaching coding while typing live"
   ]
  },
  {
   "cell_type": "code",
   "execution_count": 3,
   "metadata": {},
   "outputs": [
    {
     "data": {
      "text/plain": [
       "27"
      ]
     },
     "execution_count": 3,
     "metadata": {},
     "output_type": "execute_result"
    }
   ],
   "source": [
    "3 + 4 * 6"
   ]
  },
  {
   "cell_type": "code",
   "execution_count": 2,
   "metadata": {},
   "outputs": [
    {
     "data": {
      "text/plain": [
       "80"
      ]
     },
     "execution_count": 2,
     "metadata": {},
     "output_type": "execute_result"
    }
   ],
   "source": [
    "4 * 20"
   ]
  },
  {
   "cell_type": "code",
   "execution_count": 6,
   "metadata": {},
   "outputs": [],
   "source": [
    "weight_kg = 70"
   ]
  },
  {
   "cell_type": "code",
   "execution_count": 7,
   "metadata": {},
   "outputs": [
    {
     "name": "stdout",
     "output_type": "stream",
     "text": [
      "70\n"
     ]
    }
   ],
   "source": [
    "print(weight_kg)"
   ]
  },
  {
   "cell_type": "code",
   "execution_count": 8,
   "metadata": {},
   "outputs": [],
   "source": [
    "weight_lb = 2.2 * weight_kg"
   ]
  },
  {
   "cell_type": "code",
   "execution_count": 9,
   "metadata": {},
   "outputs": [
    {
     "name": "stdout",
     "output_type": "stream",
     "text": [
      "154.0\n"
     ]
    }
   ],
   "source": [
    "print(weight_lb)"
   ]
  },
  {
   "cell_type": "code",
   "execution_count": 13,
   "metadata": {},
   "outputs": [
    {
     "name": "stdout",
     "output_type": "stream",
     "text": [
      "001-X weight in kilograms: 154.0\n"
     ]
    }
   ],
   "source": [
    "patient_id = '001-X'\n",
    "print(patient_id, 'weight in kilograms:', weight_lb)"
   ]
  },
  {
   "cell_type": "code",
   "execution_count": 14,
   "metadata": {},
   "outputs": [],
   "source": [
    "weight_lb2 = weight_lb\n"
   ]
  },
  {
   "cell_type": "code",
   "execution_count": 15,
   "metadata": {},
   "outputs": [
    {
     "name": "stdout",
     "output_type": "stream",
     "text": [
      "154.0\n"
     ]
    }
   ],
   "source": [
    "print(weight_lb2)"
   ]
  },
  {
   "cell_type": "code",
   "execution_count": 16,
   "metadata": {},
   "outputs": [],
   "source": [
    "weight_lb = 200"
   ]
  },
  {
   "cell_type": "code",
   "execution_count": 17,
   "metadata": {},
   "outputs": [
    {
     "name": "stdout",
     "output_type": "stream",
     "text": [
      "154.0\n"
     ]
    }
   ],
   "source": [
    "print(weight_lb2)"
   ]
  },
  {
   "cell_type": "code",
   "execution_count": 18,
   "metadata": {},
   "outputs": [],
   "source": [
    "patient_id2, weight_kg3 = '002-Y', 300.0"
   ]
  },
  {
   "cell_type": "code",
   "execution_count": 20,
   "metadata": {},
   "outputs": [
    {
     "name": "stdout",
     "output_type": "stream",
     "text": [
      "002-Y weight in kilograms: 300.0\n"
     ]
    }
   ],
   "source": [
    "print(patient_id2, 'weight in kilograms:', weight_kg3)"
   ]
  },
  {
   "cell_type": "code",
   "execution_count": 21,
   "metadata": {},
   "outputs": [],
   "source": [
    "import numpy"
   ]
  },
  {
   "cell_type": "code",
   "execution_count": 22,
   "metadata": {},
   "outputs": [
    {
     "data": {
      "text/plain": [
       "array([[ 0.00000000e+00,  6.00000000e+00, -9.00000000e-02, ...,\n",
       "         2.02559852e+01,  2.79454641e+02,  1.00000000e+00],\n",
       "       [ 1.00000000e+00,  2.33333333e+00, -9.00000000e-02, ...,\n",
       "         2.02559852e+01,  2.79454641e+02,  1.00000000e+00],\n",
       "       [ 2.00000000e+00,  7.90000000e+01, -1.40000000e-01, ...,\n",
       "         7.60741678e+01,  2.23068184e+02,  5.00000000e-01],\n",
       "       ...,\n",
       "       [ 3.40000000e+02,  2.00000000e+00,  3.60000000e-01, ...,\n",
       "         8.45799261e+01,  3.94431707e+02,  5.00000000e-01],\n",
       "       [ 3.41000000e+02,  1.50000000e+01,  3.60000000e-01, ...,\n",
       "         8.45799261e+01,  2.82386669e+02,  5.00000000e-01],\n",
       "       [ 3.42000000e+02,  3.00000000e-01,  0.00000000e+00, ...,\n",
       "         8.45799261e+01,  2.43000629e+02,  5.00000000e-01]])"
      ]
     },
     "execution_count": 22,
     "metadata": {},
     "output_type": "execute_result"
    }
   ],
   "source": [
    "numpy.loadtxt(fname='combined-no-headers.csv', delimiter=',')\n"
   ]
  },
  {
   "cell_type": "code",
   "execution_count": 23,
   "metadata": {},
   "outputs": [],
   "source": [
    "data = numpy.loadtxt(fname='combined-no-headers.csv', delimiter=',')\n"
   ]
  },
  {
   "cell_type": "code",
   "execution_count": 24,
   "metadata": {},
   "outputs": [
    {
     "name": "stdout",
     "output_type": "stream",
     "text": [
      "[[ 0.00000000e+00  6.00000000e+00 -9.00000000e-02 ...  2.02559852e+01\n",
      "   2.79454641e+02  1.00000000e+00]\n",
      " [ 1.00000000e+00  2.33333333e+00 -9.00000000e-02 ...  2.02559852e+01\n",
      "   2.79454641e+02  1.00000000e+00]\n",
      " [ 2.00000000e+00  7.90000000e+01 -1.40000000e-01 ...  7.60741678e+01\n",
      "   2.23068184e+02  5.00000000e-01]\n",
      " ...\n",
      " [ 3.40000000e+02  2.00000000e+00  3.60000000e-01 ...  8.45799261e+01\n",
      "   3.94431707e+02  5.00000000e-01]\n",
      " [ 3.41000000e+02  1.50000000e+01  3.60000000e-01 ...  8.45799261e+01\n",
      "   2.82386669e+02  5.00000000e-01]\n",
      " [ 3.42000000e+02  3.00000000e-01  0.00000000e+00 ...  8.45799261e+01\n",
      "   2.43000629e+02  5.00000000e-01]]\n"
     ]
    }
   ],
   "source": [
    "print(data)"
   ]
  },
  {
   "cell_type": "code",
   "execution_count": 25,
   "metadata": {},
   "outputs": [
    {
     "name": "stdout",
     "output_type": "stream",
     "text": [
      "(343, 23)\n"
     ]
    }
   ],
   "source": [
    "print(data.shape)"
   ]
  },
  {
   "cell_type": "code",
   "execution_count": 32,
   "metadata": {},
   "outputs": [
    {
     "name": "stdout",
     "output_type": "stream",
     "text": [
      "279.4546413\n"
     ]
    }
   ],
   "source": [
    "print(data[1,-2])"
   ]
  },
  {
   "cell_type": "code",
   "execution_count": 34,
   "metadata": {},
   "outputs": [
    {
     "name": "stdout",
     "output_type": "stream",
     "text": [
      "[ 6.   -0.09  0.  ]\n"
     ]
    }
   ],
   "source": [
    "print(data[0][1:4])"
   ]
  },
  {
   "cell_type": "code",
   "execution_count": null,
   "metadata": {},
   "outputs": [],
   "source": []
  }
 ],
 "metadata": {
  "kernelspec": {
   "display_name": "Python 3",
   "language": "python",
   "name": "python3"
  },
  "language_info": {
   "codemirror_mode": {
    "name": "ipython",
    "version": 3
   },
   "file_extension": ".py",
   "mimetype": "text/x-python",
   "name": "python",
   "nbconvert_exporter": "python",
   "pygments_lexer": "ipython3",
   "version": "3.8.5"
  }
 },
 "nbformat": 4,
 "nbformat_minor": 4
}