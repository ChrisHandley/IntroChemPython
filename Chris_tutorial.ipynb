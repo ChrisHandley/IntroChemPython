{
 "cells": [
  {
   "cell_type": "code",
   "execution_count": 1,
   "metadata": {},
   "outputs": [
    {
     "data": {
      "text/plain": [
       "23"
      ]
     },
     "execution_count": 1,
     "metadata": {},
     "output_type": "execute_result"
    }
   ],
   "source": [
    "3 + 5 * 4"
   ]
  },
  {
   "cell_type": "code",
   "execution_count": 2,
   "metadata": {},
   "outputs": [],
   "source": [
    "weight_kg = 60.3\n"
   ]
  },
  {
   "cell_type": "code",
   "execution_count": 3,
   "metadata": {},
   "outputs": [],
   "source": [
    "Weight_kg = 30"
   ]
  },
  {
   "cell_type": "code",
   "execution_count": 4,
   "metadata": {},
   "outputs": [],
   "source": [
    "molecule = 'ethanol'"
   ]
  },
  {
   "cell_type": "code",
   "execution_count": 5,
   "metadata": {},
   "outputs": [],
   "source": [
    "molecule_2 = 'water'"
   ]
  },
  {
   "cell_type": "code",
   "execution_count": 13,
   "metadata": {},
   "outputs": [
    {
     "name": "stdout",
     "output_type": "stream",
     "text": [
      "65.4\n"
     ]
    }
   ],
   "source": [
    "print(weight_kg)"
   ]
  },
  {
   "cell_type": "code",
   "execution_count": 7,
   "metadata": {},
   "outputs": [
    {
     "name": "stdout",
     "output_type": "stream",
     "text": [
      "30\n"
     ]
    }
   ],
   "source": [
    "print(Weight_kg)"
   ]
  },
  {
   "cell_type": "code",
   "execution_count": 8,
   "metadata": {},
   "outputs": [],
   "source": [
    "weight_lb = 2.2 * weight_kg"
   ]
  },
  {
   "cell_type": "code",
   "execution_count": 9,
   "metadata": {},
   "outputs": [
    {
     "name": "stdout",
     "output_type": "stream",
     "text": [
      "ethanol weight in kg: 60.3\n"
     ]
    }
   ],
   "source": [
    "print(molecule, 'weight in kg:', weight_kg)"
   ]
  },
  {
   "cell_type": "code",
   "execution_count": 10,
   "metadata": {},
   "outputs": [
    {
     "name": "stdout",
     "output_type": "stream",
     "text": [
      "<class 'str'>\n"
     ]
    }
   ],
   "source": [
    "print(type(molecule))"
   ]
  },
  {
   "cell_type": "code",
   "execution_count": 11,
   "metadata": {},
   "outputs": [
    {
     "name": "stdout",
     "output_type": "stream",
     "text": [
      "<class 'float'>\n"
     ]
    }
   ],
   "source": [
    "print(type(weight_kg))"
   ]
  },
  {
   "cell_type": "code",
   "execution_count": 12,
   "metadata": {},
   "outputs": [],
   "source": [
    "weight_kg = 65.4"
   ]
  },
  {
   "cell_type": "code",
   "execution_count": 14,
   "metadata": {},
   "outputs": [],
   "source": [
    "import numpy as np"
   ]
  },
  {
   "cell_type": "code",
   "execution_count": 15,
   "metadata": {},
   "outputs": [
    {
     "data": {
      "text/plain": [
       "array([[ 0.00000000e+00,  6.00000000e+00, -9.00000000e-02, ...,\n",
       "         2.02559852e+01,  2.79454641e+02,  1.00000000e+00],\n",
       "       [ 1.00000000e+00,  2.33333333e+00, -9.00000000e-02, ...,\n",
       "         2.02559852e+01,  2.79454641e+02,  1.00000000e+00],\n",
       "       [ 2.00000000e+00,  7.90000000e+01, -1.40000000e-01, ...,\n",
       "         7.60741678e+01,  2.23068184e+02,  5.00000000e-01],\n",
       "       ...,\n",
       "       [ 3.40000000e+02,  2.00000000e+00,  3.60000000e-01, ...,\n",
       "         8.45799261e+01,  3.94431707e+02,  5.00000000e-01],\n",
       "       [ 3.41000000e+02,  1.50000000e+01,  3.60000000e-01, ...,\n",
       "         8.45799261e+01,  2.82386669e+02,  5.00000000e-01],\n",
       "       [ 3.42000000e+02,  3.00000000e-01,  0.00000000e+00, ...,\n",
       "         8.45799261e+01,  2.43000629e+02,  5.00000000e-01]])"
      ]
     },
     "execution_count": 15,
     "metadata": {},
     "output_type": "execute_result"
    }
   ],
   "source": [
    "np.loadtxt(fname='combined-no-headers.csv', delimiter=',')"
   ]
  },
  {
   "cell_type": "code",
   "execution_count": 16,
   "metadata": {},
   "outputs": [],
   "source": [
    "data = np.loadtxt(fname='combined-no-headers.csv', delimiter=',')"
   ]
  },
  {
   "cell_type": "code",
   "execution_count": 17,
   "metadata": {},
   "outputs": [
    {
     "name": "stdout",
     "output_type": "stream",
     "text": [
      "<class 'numpy.ndarray'>\n"
     ]
    }
   ],
   "source": [
    "print(type(data))"
   ]
  },
  {
   "cell_type": "code",
   "execution_count": 18,
   "metadata": {},
   "outputs": [
    {
     "name": "stdout",
     "output_type": "stream",
     "text": [
      "[[ 0.00000000e+00  6.00000000e+00 -9.00000000e-02 ...  2.02559852e+01\n",
      "   2.79454641e+02  1.00000000e+00]\n",
      " [ 1.00000000e+00  2.33333333e+00 -9.00000000e-02 ...  2.02559852e+01\n",
      "   2.79454641e+02  1.00000000e+00]\n",
      " [ 2.00000000e+00  7.90000000e+01 -1.40000000e-01 ...  7.60741678e+01\n",
      "   2.23068184e+02  5.00000000e-01]\n",
      " ...\n",
      " [ 3.40000000e+02  2.00000000e+00  3.60000000e-01 ...  8.45799261e+01\n",
      "   3.94431707e+02  5.00000000e-01]\n",
      " [ 3.41000000e+02  1.50000000e+01  3.60000000e-01 ...  8.45799261e+01\n",
      "   2.82386669e+02  5.00000000e-01]\n",
      " [ 3.42000000e+02  3.00000000e-01  0.00000000e+00 ...  8.45799261e+01\n",
      "   2.43000629e+02  5.00000000e-01]]\n"
     ]
    }
   ],
   "source": [
    "print(data)"
   ]
  },
  {
   "cell_type": "code",
   "execution_count": 19,
   "metadata": {},
   "outputs": [
    {
     "name": "stdout",
     "output_type": "stream",
     "text": [
      "float64\n"
     ]
    }
   ],
   "source": [
    "print(data.dtype)"
   ]
  },
  {
   "cell_type": "code",
   "execution_count": 20,
   "metadata": {},
   "outputs": [
    {
     "name": "stdout",
     "output_type": "stream",
     "text": [
      "(343, 23)\n"
     ]
    }
   ],
   "source": [
    "print(data.shape)"
   ]
  },
  {
   "cell_type": "code",
   "execution_count": 21,
   "metadata": {},
   "outputs": [
    {
     "name": "stdout",
     "output_type": "stream",
     "text": [
      "first value in data: 0.0\n"
     ]
    }
   ],
   "source": [
    "print('first value in data:', data[0,0])"
   ]
  },
  {
   "cell_type": "code",
   "execution_count": 22,
   "metadata": {},
   "outputs": [
    {
     "name": "stdout",
     "output_type": "stream",
     "text": [
      "94.18429025\n"
     ]
    }
   ],
   "source": [
    "print(data[172, 11])"
   ]
  },
  {
   "cell_type": "code",
   "execution_count": 25,
   "metadata": {},
   "outputs": [
    {
     "name": "stdout",
     "output_type": "stream",
     "text": [
      "1.0\n"
     ]
    }
   ],
   "source": [
    "print(data[0,22])"
   ]
  },
  {
   "cell_type": "code",
   "execution_count": 27,
   "metadata": {},
   "outputs": [
    {
     "name": "stdout",
     "output_type": "stream",
     "text": [
      "[[ 0.          6.         -0.09      ]\n",
      " [ 1.          2.33333333 -0.09      ]]\n"
     ]
    }
   ],
   "source": [
    "print(data[0:2, 0:3])"
   ]
  },
  {
   "cell_type": "code",
   "execution_count": 30,
   "metadata": {},
   "outputs": [],
   "source": [
    "small = data[:2, 18:]"
   ]
  },
  {
   "cell_type": "code",
   "execution_count": 31,
   "metadata": {},
   "outputs": [
    {
     "name": "stdout",
     "output_type": "stream",
     "text": [
      "[[  0.           0.          20.25598522 279.4546413    1.        ]\n",
      " [  0.           0.          20.25598522 279.4546413    1.        ]]\n"
     ]
    }
   ],
   "source": [
    "print(small)"
   ]
  },
  {
   "cell_type": "code",
   "execution_count": 32,
   "metadata": {},
   "outputs": [],
   "source": [
    "data = np.delete(data, 0, 1)"
   ]
  },
  {
   "cell_type": "code",
   "execution_count": 33,
   "metadata": {},
   "outputs": [
    {
     "name": "stdout",
     "output_type": "stream",
     "text": [
      "[[ 6.00000000e+00 -9.00000000e-02  0.00000000e+00 ...  2.02559852e+01\n",
      "   2.79454641e+02  1.00000000e+00]\n",
      " [ 2.33333333e+00 -9.00000000e-02  0.00000000e+00 ...  2.02559852e+01\n",
      "   2.79454641e+02  1.00000000e+00]\n",
      " [ 7.90000000e+01 -1.40000000e-01  0.00000000e+00 ...  7.60741678e+01\n",
      "   2.23068184e+02  5.00000000e-01]\n",
      " ...\n",
      " [ 2.00000000e+00  3.60000000e-01  0.00000000e+00 ...  8.45799261e+01\n",
      "   3.94431707e+02  5.00000000e-01]\n",
      " [ 1.50000000e+01  3.60000000e-01  0.00000000e+00 ...  8.45799261e+01\n",
      "   2.82386669e+02  5.00000000e-01]\n",
      " [ 3.00000000e-01  0.00000000e+00  0.00000000e+00 ...  8.45799261e+01\n",
      "   2.43000629e+02  5.00000000e-01]]\n"
     ]
    }
   ],
   "source": [
    "print(data)"
   ]
  },
  {
   "cell_type": "code",
   "execution_count": 34,
   "metadata": {},
   "outputs": [
    {
     "name": "stdout",
     "output_type": "stream",
     "text": [
      "53.72029602831553\n"
     ]
    }
   ],
   "source": [
    "print(np.mean(data))"
   ]
  },
  {
   "cell_type": "code",
   "execution_count": 35,
   "metadata": {},
   "outputs": [
    {
     "name": "stdout",
     "output_type": "stream",
     "text": [
      "Wed Sep 29 10:57:50 2021\n"
     ]
    }
   ],
   "source": [
    "import time\n",
    "print(time.ctime())"
   ]
  },
  {
   "cell_type": "code",
   "execution_count": 38,
   "metadata": {},
   "outputs": [],
   "source": [
    "import pandas as pd"
   ]
  },
  {
   "cell_type": "code",
   "execution_count": 39,
   "metadata": {},
   "outputs": [],
   "source": [
    "df = pd.read_csv('Acyclic.csv')"
   ]
  },
  {
   "cell_type": "code",
   "execution_count": 40,
   "metadata": {},
   "outputs": [
    {
     "name": "stdout",
     "output_type": "stream",
     "text": [
      "     Unnamed: 0   %top   ER1   ER2  ER3   ER4  ER5  ER6   ER7  EZ  ...  \\\n",
      "0             0   2.25 -0.09  0.00  0.0 -0.09  0.0  0.0  0.00   1  ...   \n",
      "1             1   2.50 -0.09  0.00  0.0 -0.09  0.0  0.0  0.00   1  ...   \n",
      "2             2   5.00 -0.09  0.00  0.0 -0.09  0.0  0.0  0.00   1  ...   \n",
      "3             3   5.00 -0.09  0.00  0.0 -0.09  0.0  0.0  0.00   1  ...   \n",
      "4             4   3.50 -0.01 -0.17  0.0 -0.01  0.0  0.0 -0.17   1  ...   \n",
      "..          ...    ...   ...   ...  ...   ...  ...  ...   ...  ..  ...   \n",
      "174         174   2.50  0.36  0.00  0.0 -0.17  0.0  0.0 -0.15   1  ...   \n",
      "175         175   3.25  0.36  0.00  0.0 -0.17  0.0  0.0 -0.15   1  ...   \n",
      "176         176   5.00  0.36  0.00  0.0 -0.17  0.0  0.0 -0.15   1  ...   \n",
      "177         177   2.00  0.36  0.00  0.0 -0.17  0.0  0.0 -0.15   1  ...   \n",
      "178         178  15.00  0.36  0.00  0.0 -0.17  0.0  0.0 -0.15   1  ...   \n",
      "\n",
      "                                       boron reagent  equivs boron reagent  \\\n",
      "0                                   OB(C1=CC=CC=C1)O                   2.0   \n",
      "1                                   OB(C1=CC=CC=C1)O                   2.0   \n",
      "2                                   OB(C1=CC=CC=C1)O                   3.0   \n",
      "3    C1(B2OB(C3=CC=CC=C3)OB(C4=CC=CC=C4)O2)=CC=CC=C1                   2.0   \n",
      "4                                   OB(C1=CC=CC=C1)O                   2.0   \n",
      "..                                               ...                   ...   \n",
      "174                                 OB(C1=CC=CC=C1)O                   2.4   \n",
      "175                              CC1=CC(B(O)O)=CC=C1                   2.4   \n",
      "176                                 OB(C1=CC=CC=C1)O                   2.0   \n",
      "177                                 OB(C1=CC=CC=C1)O                   2.4   \n",
      "178                                 OB(C1=CC=CC=C1)O                   2.4   \n",
      "\n",
      "     ligand  mol% Rh  mol% ligand      solvent  \\\n",
      "0      L3.1      1.5          3.0  dioxane/H2O   \n",
      "1      L3.1      1.5          3.3  dioxane/H2O   \n",
      "2      L3.1      2.5          5.5  dioxane/H2O   \n",
      "3      L3.1      1.5          3.0  dioxane/H2O   \n",
      "4     L3.10      1.5          3.6      dioxane   \n",
      "..      ...      ...          ...          ...   \n",
      "174   L3.86      2.5          6.0  dioxane/H2O   \n",
      "175   L3.86      2.5          6.0  dioxane/H2O   \n",
      "176   L3.86      2.5          6.0  dioxane/H2O   \n",
      "177   L3.86      2.5          6.0  dioxane/H2O   \n",
      "178   L3.87      2.5          6.0  dioxane/H2O   \n",
      "\n",
      "                                       substrate  temp  time  yield  \n",
      "0                               CC(/C=C/C(C)C)=O    30   3.0   81.0  \n",
      "1                               CC(/C=C/CCCCC)=O    30   1.0   84.0  \n",
      "2              O=C(/C=C/C(OC(C)(C)C)=O)OC(C)(C)C    50   3.0   78.0  \n",
      "3                            O=C(/C=C/CCC)OC(C)C    50   1.0   73.0  \n",
      "4                               CC(/C=C/C(C)C)=O    25   1.0   91.0  \n",
      "..                                           ...   ...   ...    ...  \n",
      "174                 CCCC/C=C/C1=NC2=CC=CC=C2C=C1    80   0.5   56.0  \n",
      "175                 CCCC/C=C/C1=NC2=CC=CC=C2C=C1    80   0.5   71.0  \n",
      "176      C12=CC=CC=C1N=CC(/C=C/CCC3=CC=CC=C3)=N2    80   0.5   80.0  \n",
      "177  O=[N+](C1=CC=C(/C=C/CCC2=CC=CC=C2)C=C1)[O-]    80   0.5   35.0  \n",
      "178  O=[N+](C1=CC=C(/C=C/CCC2=CC=CC=C2)C=C1)[O-]   120   0.5   76.0  \n",
      "\n",
      "[179 rows x 40 columns]\n"
     ]
    }
   ],
   "source": [
    "print(df)"
   ]
  },
  {
   "cell_type": "code",
   "execution_count": 45,
   "metadata": {},
   "outputs": [],
   "source": [
    "df = df.filter(['%top', 'temp', 'time', 'yield'])"
   ]
  },
  {
   "cell_type": "code",
   "execution_count": 46,
   "metadata": {},
   "outputs": [
    {
     "name": "stdout",
     "output_type": "stream",
     "text": [
      "      %top  temp  time  yield\n",
      "0     2.25    30   3.0   81.0\n",
      "1     2.50    30   1.0   84.0\n",
      "2     5.00    50   3.0   78.0\n",
      "3     5.00    50   1.0   73.0\n",
      "4     3.50    25   1.0   91.0\n",
      "..     ...   ...   ...    ...\n",
      "174   2.50    80   0.5   56.0\n",
      "175   3.25    80   0.5   71.0\n",
      "176   5.00    80   0.5   80.0\n",
      "177   2.00    80   0.5   35.0\n",
      "178  15.00   120   0.5   76.0\n",
      "\n",
      "[179 rows x 4 columns]\n"
     ]
    }
   ],
   "source": [
    "print(df)"
   ]
  },
  {
   "cell_type": "code",
   "execution_count": 49,
   "metadata": {},
   "outputs": [],
   "source": [
    "df2 = df.to_numpy()"
   ]
  },
  {
   "cell_type": "code",
   "execution_count": 50,
   "metadata": {},
   "outputs": [
    {
     "name": "stdout",
     "output_type": "stream",
     "text": [
      "41.736685288641056\n"
     ]
    }
   ],
   "source": [
    "print(np.mean(df2))"
   ]
  },
  {
   "cell_type": "code",
   "execution_count": null,
   "metadata": {},
   "outputs": [],
   "source": []
  }
 ],
 "metadata": {
  "kernelspec": {
   "display_name": "Python 3",
   "language": "python",
   "name": "python3"
  },
  "language_info": {
   "codemirror_mode": {
    "name": "ipython",
    "version": 3
   },
   "file_extension": ".py",
   "mimetype": "text/x-python",
   "name": "python",
   "nbconvert_exporter": "python",
   "pygments_lexer": "ipython3",
   "version": "3.8.5"
  }
 },
 "nbformat": 4,
 "nbformat_minor": 5
}
