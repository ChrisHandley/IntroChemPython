{
 "cells": [
  {
   "cell_type": "markdown",
   "id": "e7dedbfa",
   "metadata": {},
   "source": [
    "# Python Tutorial\n",
    "This notebook has been desgined to give a brief introduction into coding in python. We will use examples covered in the RhCASA notebook to explain the fundamental concetps required to start editing the notebook for your own purposes and starting new projects from scratch\n",
    "\n",
    "## Variables and Data Types\n",
    "In python, a variable can be defined by choosing a name and setting it equal to something."
   ]
  },
  {
   "cell_type": "code",
   "execution_count": 1,
   "id": "ecffbe16",
   "metadata": {},
   "outputs": [],
   "source": [
    "new_variable = 5\n",
    "num = 62.3\n",
    "word = 'hello'\n",
    "bool = True"
   ]
  },
  {
   "cell_type": "markdown",
   "id": "e5cb68d6",
   "metadata": {},
   "source": [
    "new_varibale, num and word are all variables that have been defined. There are 4 common data types used in python that we will discuss (there are more complex ones that we will not worry about for now):\n",
    "\n",
    "Integers, Floats, Strings and Booleans.\n",
    "\n",
    "new_variable is an integer, num is a float, word is a string (text) and bool is a Boolean (True or False).\n",
    "\n",
    "We can use Python to do some basic maths. To view the output, we use the function print(), with the content we would like to print inside the brackets."
   ]
  },
  {
   "cell_type": "code",
   "execution_count": 2,
   "id": "6b664627",
   "metadata": {},
   "outputs": [
    {
     "name": "stdout",
     "output_type": "stream",
     "text": [
      "7\n",
      "4.0\n",
      "6\n",
      "16\n",
      "67.3\n",
      "311.5\n"
     ]
    }
   ],
   "source": [
    "print(3+4)\n",
    "print(8/2)\n",
    "print(2*3)\n",
    "print(4**2) # 4 to the power of 2\n",
    "print(new_variable + num)\n",
    "print(new_variable * num)"
   ]
  },
  {
   "cell_type": "markdown",
   "id": "3ff0819a",
   "metadata": {},
   "source": [
    "However, Python does not have the ability to do more complex maths on its own. To do this, we either must write our own functions that can perform this maths, or we can 'borrow' functions written by others. To do this we can import a library of fuctions using an import statement.\n",
    "\n",
    "Once we have math imported, we have a host of new functions available to us. To use these functions, we must state where we are getting them from and the name of the function we want to use. "
   ]
  },
  {
   "cell_type": "code",
   "execution_count": 3,
   "id": "13dc0bd7",
   "metadata": {},
   "outputs": [
    {
     "name": "stdout",
     "output_type": "stream",
     "text": [
      "4.0\n",
      "67\n",
      "24\n"
     ]
    }
   ],
   "source": [
    "import math\n",
    "new_number = math.sqrt(16) # the square root function is obtained from the math library\n",
    "print(new_number)\n",
    "print(math.floor(67.2)) # the floor function gives the largest integeter less than or equal to the number given\n",
    "print(math.factorial(4)) # 4*3*2*1"
   ]
  },
  {
   "cell_type": "markdown",
   "id": "beb8a98d",
   "metadata": {},
   "source": [
    "## Lists\n",
    "If we want to store multiples pieces of information within one variable name we can create a list. This list can contain any of the data types discussed above, or combinations of them. "
   ]
  },
  {
   "cell_type": "code",
   "execution_count": 4,
   "id": "0e19089e",
   "metadata": {},
   "outputs": [
    {
     "name": "stdout",
     "output_type": "stream",
     "text": [
      "[1, 4, 7, 'yes', 5.6]\n"
     ]
    }
   ],
   "source": [
    "new_list = [1, 4, 7, 'yes', 5.6]\n",
    "print(new_list)"
   ]
  },
  {
   "cell_type": "markdown",
   "id": "57140ad7",
   "metadata": {},
   "source": [
    "We can access any piece of data from the list by using square brackets. The first position is position 0, followed by 1, 2, 3..."
   ]
  },
  {
   "cell_type": "code",
   "execution_count": 5,
   "id": "6d537e1e",
   "metadata": {},
   "outputs": [
    {
     "name": "stdout",
     "output_type": "stream",
     "text": [
      "1\n",
      "7\n",
      "6.6\n",
      "2.0\n"
     ]
    }
   ],
   "source": [
    "print(new_list[0])\n",
    "print(new_list[2])\n",
    "print(new_list[0]+new_list[4])\n",
    "print(math.sqrt(new_list[1]))"
   ]
  },
  {
   "cell_type": "markdown",
   "id": "cb823c71",
   "metadata": {},
   "source": [
    "## Pandas\n",
    "Pandas is another library (like math) that contains functions specific for data analysis. It allows us to open data files and perform actions on the data. It is very common among professional programmers to give pandas the nickname 'pd' when it is imported."
   ]
  },
  {
   "cell_type": "code",
   "execution_count": 6,
   "id": "03294864",
   "metadata": {},
   "outputs": [],
   "source": [
    "import pandas as pd"
   ]
  },
  {
   "cell_type": "markdown",
   "id": "979f55c5",
   "metadata": {},
   "source": [
    "We have 4 datasets files for the RhCASA notebook: 'Acyclic', 'Cyclic' 'Cyclohexenone' and 'Combined'. These are all csv files so we can open these using the function read_csv. Pandas will convert these csv files into what it calls a Data Frame. This is essentially a table of data that can be edited."
   ]
  },
  {
   "cell_type": "code",
   "execution_count": 7,
   "id": "f050b686",
   "metadata": {},
   "outputs": [
    {
     "name": "stdout",
     "output_type": "stream",
     "text": [
      "     Unnamed: 0   %top   ER1   ER2  ER3   ER4  ER5  ER6   ER7  EZ  ...  \\\n",
      "0             0   2.25 -0.09  0.00  0.0 -0.09  0.0  0.0  0.00   1  ...   \n",
      "1             1   2.50 -0.09  0.00  0.0 -0.09  0.0  0.0  0.00   1  ...   \n",
      "2             2   5.00 -0.09  0.00  0.0 -0.09  0.0  0.0  0.00   1  ...   \n",
      "3             3   5.00 -0.09  0.00  0.0 -0.09  0.0  0.0  0.00   1  ...   \n",
      "4             4   3.50 -0.01 -0.17  0.0 -0.01  0.0  0.0 -0.17   1  ...   \n",
      "..          ...    ...   ...   ...  ...   ...  ...  ...   ...  ..  ...   \n",
      "174         174   2.50  0.36  0.00  0.0 -0.17  0.0  0.0 -0.15   1  ...   \n",
      "175         175   3.25  0.36  0.00  0.0 -0.17  0.0  0.0 -0.15   1  ...   \n",
      "176         176   5.00  0.36  0.00  0.0 -0.17  0.0  0.0 -0.15   1  ...   \n",
      "177         177   2.00  0.36  0.00  0.0 -0.17  0.0  0.0 -0.15   1  ...   \n",
      "178         178  15.00  0.36  0.00  0.0 -0.17  0.0  0.0 -0.15   1  ...   \n",
      "\n",
      "                                       boron reagent  equivs boron reagent  \\\n",
      "0                                   OB(C1=CC=CC=C1)O                   2.0   \n",
      "1                                   OB(C1=CC=CC=C1)O                   2.0   \n",
      "2                                   OB(C1=CC=CC=C1)O                   3.0   \n",
      "3    C1(B2OB(C3=CC=CC=C3)OB(C4=CC=CC=C4)O2)=CC=CC=C1                   2.0   \n",
      "4                                   OB(C1=CC=CC=C1)O                   2.0   \n",
      "..                                               ...                   ...   \n",
      "174                                 OB(C1=CC=CC=C1)O                   2.4   \n",
      "175                              CC1=CC(B(O)O)=CC=C1                   2.4   \n",
      "176                                 OB(C1=CC=CC=C1)O                   2.0   \n",
      "177                                 OB(C1=CC=CC=C1)O                   2.4   \n",
      "178                                 OB(C1=CC=CC=C1)O                   2.4   \n",
      "\n",
      "     ligand  mol% Rh  mol% ligand      solvent  \\\n",
      "0      L3.1      1.5          3.0  dioxane/H2O   \n",
      "1      L3.1      1.5          3.3  dioxane/H2O   \n",
      "2      L3.1      2.5          5.5  dioxane/H2O   \n",
      "3      L3.1      1.5          3.0  dioxane/H2O   \n",
      "4     L3.10      1.5          3.6      dioxane   \n",
      "..      ...      ...          ...          ...   \n",
      "174   L3.86      2.5          6.0  dioxane/H2O   \n",
      "175   L3.86      2.5          6.0  dioxane/H2O   \n",
      "176   L3.86      2.5          6.0  dioxane/H2O   \n",
      "177   L3.86      2.5          6.0  dioxane/H2O   \n",
      "178   L3.87      2.5          6.0  dioxane/H2O   \n",
      "\n",
      "                                       substrate  temp  time  yield  \n",
      "0                               CC(/C=C/C(C)C)=O    30   3.0   81.0  \n",
      "1                               CC(/C=C/CCCCC)=O    30   1.0   84.0  \n",
      "2              O=C(/C=C/C(OC(C)(C)C)=O)OC(C)(C)C    50   3.0   78.0  \n",
      "3                            O=C(/C=C/CCC)OC(C)C    50   1.0   73.0  \n",
      "4                               CC(/C=C/C(C)C)=O    25   1.0   91.0  \n",
      "..                                           ...   ...   ...    ...  \n",
      "174                 CCCC/C=C/C1=NC2=CC=CC=C2C=C1    80   0.5   56.0  \n",
      "175                 CCCC/C=C/C1=NC2=CC=CC=C2C=C1    80   0.5   71.0  \n",
      "176      C12=CC=CC=C1N=CC(/C=C/CCC3=CC=CC=C3)=N2    80   0.5   80.0  \n",
      "177  O=[N+](C1=CC=C(/C=C/CCC2=CC=CC=C2)C=C1)[O-]    80   0.5   35.0  \n",
      "178  O=[N+](C1=CC=C(/C=C/CCC2=CC=CC=C2)C=C1)[O-]   120   0.5   76.0  \n",
      "\n",
      "[179 rows x 40 columns]\n"
     ]
    }
   ],
   "source": [
    "# df = dataframe\n",
    "df = pd.read_csv('Acyclic.csv')\n",
    "print(df)"
   ]
  },
  {
   "cell_type": "markdown",
   "id": "161a5d8f",
   "metadata": {},
   "source": [
    "Our dataframe has 179 rows and 40 columns. This too large for an example to learn from, but real dataframes can be of any size or shape. For this example, lets cut it down to just a few columns that we can work with more easily, using the filter function (filter the columns so that only those listed are kept)."
   ]
  },
  {
   "cell_type": "code",
   "execution_count": 8,
   "id": "3ca88bef",
   "metadata": {},
   "outputs": [
    {
     "name": "stdout",
     "output_type": "stream",
     "text": [
      "         solvent   %top  temp  time  yield\n",
      "0    dioxane/H2O   2.25    30   3.0   81.0\n",
      "1    dioxane/H2O   2.50    30   1.0   84.0\n",
      "2    dioxane/H2O   5.00    50   3.0   78.0\n",
      "3    dioxane/H2O   5.00    50   1.0   73.0\n",
      "4        dioxane   3.50    25   1.0   91.0\n",
      "..           ...    ...   ...   ...    ...\n",
      "174  dioxane/H2O   2.50    80   0.5   56.0\n",
      "175  dioxane/H2O   3.25    80   0.5   71.0\n",
      "176  dioxane/H2O   5.00    80   0.5   80.0\n",
      "177  dioxane/H2O   2.00    80   0.5   35.0\n",
      "178  dioxane/H2O  15.00   120   0.5   76.0\n",
      "\n",
      "[179 rows x 5 columns]\n",
      "0      dioxane/H2O\n",
      "1      dioxane/H2O\n",
      "2      dioxane/H2O\n",
      "3      dioxane/H2O\n",
      "4          dioxane\n",
      "          ...     \n",
      "174    dioxane/H2O\n",
      "175    dioxane/H2O\n",
      "176    dioxane/H2O\n",
      "177    dioxane/H2O\n",
      "178    dioxane/H2O\n",
      "Name: solvent, Length: 179, dtype: object\n"
     ]
    }
   ],
   "source": [
    "df = df.filter(['solvent', '%top', 'temp', 'time', 'yield'])\n",
    "print(df)\n",
    "print(df['solvent']) # print just the solvent column"
   ]
  },
  {
   "cell_type": "markdown",
   "id": "bcb2319b",
   "metadata": {},
   "source": [
    "## Defining our own functions\n",
    "If we would like to perform a task in python that doesn't already have an existing function, we can write our own. In this example we will write a funciton that will calculate the mean of a series of given numbers (functions to do this already exist, ths is just an example)."
   ]
  },
  {
   "cell_type": "code",
   "execution_count": 9,
   "id": "226cf82d",
   "metadata": {},
   "outputs": [
    {
     "name": "stdout",
     "output_type": "stream",
     "text": [
      "6.3\n"
     ]
    }
   ],
   "source": [
    "def mean_calc(number_list):\n",
    "    total = 0 # we must define a variable that we can use to add each of the numbers in the list together\n",
    "    for number in number_list: # this will iterate through every number in the list\n",
    "        total = total + number # add the new number to the existing total\n",
    "    \n",
    "    mean = total/len(number_list) # divide the sum of all the numbers by the number of numbers (lenght of the list)\n",
    "    return mean\n",
    "\n",
    "print(mean_calc([1,4,6,5,8,10,3,13.4]))"
   ]
  },
  {
   "cell_type": "code",
   "execution_count": 9,
   "id": "7bc5f1dd",
   "metadata": {},
   "outputs": [],
   "source": []
  }
 ],
 "metadata": {
  "kernelspec": {
   "display_name": "Python 3 (ipykernel)",
   "language": "python",
   "name": "python3"
  },
  "language_info": {
   "codemirror_mode": {
    "name": "ipython",
    "version": 3
   },
   "file_extension": ".py",
   "mimetype": "text/x-python",
   "name": "python",
   "nbconvert_exporter": "python",
   "pygments_lexer": "ipython3",
   "version": "3.8.10"
  }
 },
 "nbformat": 4,
 "nbformat_minor": 5
}
